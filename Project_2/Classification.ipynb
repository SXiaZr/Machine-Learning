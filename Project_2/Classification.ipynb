{
 "cells": [
  {
   "cell_type": "markdown",
   "metadata": {},
   "source": [
    "# Classification\n",
    "This notebook is written for author classification. The main objective of classification is to build a model based on researchers’ publications to predict whether he/she would get the sack after the repression of the coup. \n",
    "\n",
    "This author classification problem mentioned above is a bi-classification problem. We plan to prepare the author's data of each category and use supervised-learning method to train a model and solve the classification task.\n",
    "\n",
    "Classification (supervised-learning) model used include:\n",
    "1. Logistic regression;\n",
    "2. Neural networks.\n",
    "\n",
    "The data is obtained by web scraping from [Web of Science](http://apps.webofknowledge.com/WOS_GeneralSearch_input.do?product=WOS&search_mode=GeneralSearch&SID=F41mtBBV1mNZKmygFN7&preferencesSaved=) using extended version of web of science. The search strategy is searching the full family name + first letter of given name (e.g. For some one ’Tom Smith’ we search ‘Smith T\\*’). Therefore, the data we scraped is quite implicit, we have to preprocess it to obtain explicit data and extract suitable features before using it to train models. \n",
    "\n",
    "Feature extraction methods used include:\n",
    "\n",
    "1. Word2vec;\n",
    "2. Bag-of-words;\n",
    "3. Fasttext."
   ]
  },
  {
   "cell_type": "code",
   "execution_count": 2,
   "metadata": {},
   "outputs": [
    {
     "name": "stderr",
     "output_type": "stream",
     "text": [
      "Using TensorFlow backend.\n"
     ]
    }
   ],
   "source": [
    "# Other package:\n",
    "import re\n",
    "import pickle\n",
    "import warnings; warnings.simplefilter('ignore')\n",
    "import matplotlib.pyplot as plt\n",
    "import io\n",
    "\n",
    "# Math packages\n",
    "import numpy as np\n",
    "import pandas as pd\n",
    "\n",
    "# NPL package: gensim\n",
    "import gensim\n",
    "\n",
    "# Machine learning packeage: sklearn\n",
    "from sklearn.feature_extraction.text import CountVectorizer\n",
    "from sklearn.feature_extraction.text import TfidfTransformer\n",
    "from sklearn.utils import shuffle\n",
    "from sklearn.model_selection import train_test_split\n",
    "from sklearn.model_selection import cross_val_score\n",
    "from sklearn.linear_model import LogisticRegression\n",
    "\n",
    "# Deep learning package: keras\n",
    "from keras.layers import Flatten\n",
    "from keras.models import Sequential\n",
    "from keras.layers import Dense, Dropout\n",
    "from keras.layers import Embedding\n",
    "from keras.layers import Conv1D, GlobalAveragePooling1D, MaxPooling1D"
   ]
  },
  {
   "cell_type": "markdown",
   "metadata": {},
   "source": [
    "## 0. Load Data\n",
    "### 0.1 Load Dismissed Author List\n",
    "We load the already known **dismissed author list**, which can be treated as ground truth. The list contains:\n",
    "- `Author` name and corresponding `Affiliation`.\n",
    "- We split data (string), extract author name and affiliation information and use `pandas.DataFrame` to wrap it."
   ]
  },
  {
   "cell_type": "code",
   "execution_count": 2,
   "metadata": {},
   "outputs": [
    {
     "data": {
      "text/html": [
       "<div>\n",
       "<style scoped>\n",
       "    .dataframe tbody tr th:only-of-type {\n",
       "        vertical-align: middle;\n",
       "    }\n",
       "\n",
       "    .dataframe tbody tr th {\n",
       "        vertical-align: top;\n",
       "    }\n",
       "\n",
       "    .dataframe thead th {\n",
       "        text-align: right;\n",
       "    }\n",
       "</style>\n",
       "<table border=\"1\" class=\"dataframe\">\n",
       "  <thead>\n",
       "    <tr style=\"text-align: right;\">\n",
       "      <th></th>\n",
       "      <th>Author</th>\n",
       "      <th>Affiliation</th>\n",
       "    </tr>\n",
       "  </thead>\n",
       "  <tbody>\n",
       "    <tr>\n",
       "      <th>0</th>\n",
       "      <td>AYDIN AYDIN</td>\n",
       "      <td>SULEYMAN DEMIREL UNIVERSITY</td>\n",
       "    </tr>\n",
       "    <tr>\n",
       "      <th>1</th>\n",
       "      <td>GILGIL ERDAL</td>\n",
       "      <td>AKDENIZ UNIVERSITY</td>\n",
       "    </tr>\n",
       "  </tbody>\n",
       "</table>\n",
       "</div>"
      ],
      "text/plain": [
       "         Author                  Affiliation\n",
       "0   AYDIN AYDIN  SULEYMAN DEMIREL UNIVERSITY\n",
       "1  GILGIL ERDAL           AKDENIZ UNIVERSITY"
      ]
     },
     "execution_count": 2,
     "metadata": {},
     "output_type": "execute_result"
    }
   ],
   "source": [
    "# Load the already known dismissed author list\n",
    "searchnames_dismiss_univ = []\n",
    "searchnames_dismiss_fullname = []\n",
    "\n",
    "for line in open('./data/Dismis_Acad_List_CLEAN.txt','r'): \n",
    "    QueryString = line.strip()\n",
    "    QueryString_aff = QueryString.split(',')[1]\n",
    "    # Change the order of author's name as: family name, first name,  middle name\n",
    "    QueryString_fullname = QueryString.split(',')[0].split()[-1] + ' '\\\n",
    "                                + ' '.join(QueryString.split(',')[0].split()[0:-1])\n",
    "    searchnames_dismiss_fullname.append(QueryString_fullname)\n",
    "    searchnames_dismiss_univ.append(QueryString_aff)\n",
    "    \n",
    "# Wrap the dismissed author list to Dataframe    \n",
    "auth_aff_df = pd.DataFrame({'Author':searchnames_dismiss_fullname,\n",
    "                            'Affiliation':searchnames_dismiss_univ})\n",
    "# Display pre-processed data after second stage\n",
    "auth_aff_df.head(2)"
   ]
  },
  {
   "cell_type": "markdown",
   "metadata": {},
   "source": [
    "### 0.2  Load Scraped Dismissed and Undismissed Authors Data\n",
    "We load the paper data of dismissed authors and undismissed authors scraped from [Web of Science](http://apps.webofknowledge.com/WOS_GeneralSearch_input.do?product=WOS&search_mode=GeneralSearch&SID=F41mtBBV1mNZKmygFN7&preferencesSaved=) and parse it into `pandas.DataFrame` format which contains features as below, the parsing code is stored in file `Parsing.py`: \n",
    "- Paper info: uid, doctype, title, language, key words, subject, heading, subheading.\n",
    "- Publishment info: source, publish date, pubtype.\n",
    "- Author info: name, affiliation.\n",
    "\n",
    "**Actually, this part is NOT reproducible, because we cannot share the data for the sake of privacy! Please jump to the `1.Data Pre-processing`.**"
   ]
  },
  {
   "cell_type": "code",
   "execution_count": 3,
   "metadata": {
    "scrolled": true
   },
   "outputs": [
    {
     "ename": "FileNotFoundError",
     "evalue": "File b'./data/dismissed_complete.csv' does not exist",
     "output_type": "error",
     "traceback": [
      "\u001b[0;31m---------------------------------------------------------------------------\u001b[0m",
      "\u001b[0;31mFileNotFoundError\u001b[0m                         Traceback (most recent call last)",
      "\u001b[0;32m<ipython-input-3-d424fdd9674d>\u001b[0m in \u001b[0;36m<module>\u001b[0;34m()\u001b[0m\n\u001b[1;32m      1\u001b[0m \u001b[0;31m# Load data of dismissed authors\u001b[0m\u001b[0;34m\u001b[0m\u001b[0;34m\u001b[0m\u001b[0m\n\u001b[0;32m----> 2\u001b[0;31m \u001b[0mdata_dismiss\u001b[0m \u001b[0;34m=\u001b[0m \u001b[0mpd\u001b[0m\u001b[0;34m.\u001b[0m\u001b[0mread_csv\u001b[0m\u001b[0;34m(\u001b[0m\u001b[0;34m'./data/dismissed_complete.csv'\u001b[0m\u001b[0;34m)\u001b[0m\u001b[0;34m\u001b[0m\u001b[0m\n\u001b[0m\u001b[1;32m      3\u001b[0m \u001b[0mdata_dismiss\u001b[0m\u001b[0;34m.\u001b[0m\u001b[0mhead\u001b[0m\u001b[0;34m(\u001b[0m\u001b[0;36m2\u001b[0m\u001b[0;34m)\u001b[0m\u001b[0;34m\u001b[0m\u001b[0m\n",
      "\u001b[0;32m/anaconda3/lib/python3.6/site-packages/pandas/io/parsers.py\u001b[0m in \u001b[0;36mparser_f\u001b[0;34m(filepath_or_buffer, sep, delimiter, header, names, index_col, usecols, squeeze, prefix, mangle_dupe_cols, dtype, engine, converters, true_values, false_values, skipinitialspace, skiprows, nrows, na_values, keep_default_na, na_filter, verbose, skip_blank_lines, parse_dates, infer_datetime_format, keep_date_col, date_parser, dayfirst, iterator, chunksize, compression, thousands, decimal, lineterminator, quotechar, quoting, escapechar, comment, encoding, dialect, tupleize_cols, error_bad_lines, warn_bad_lines, skipfooter, doublequote, delim_whitespace, low_memory, memory_map, float_precision)\u001b[0m\n\u001b[1;32m    676\u001b[0m                     skip_blank_lines=skip_blank_lines)\n\u001b[1;32m    677\u001b[0m \u001b[0;34m\u001b[0m\u001b[0m\n\u001b[0;32m--> 678\u001b[0;31m         \u001b[0;32mreturn\u001b[0m \u001b[0m_read\u001b[0m\u001b[0;34m(\u001b[0m\u001b[0mfilepath_or_buffer\u001b[0m\u001b[0;34m,\u001b[0m \u001b[0mkwds\u001b[0m\u001b[0;34m)\u001b[0m\u001b[0;34m\u001b[0m\u001b[0m\n\u001b[0m\u001b[1;32m    679\u001b[0m \u001b[0;34m\u001b[0m\u001b[0m\n\u001b[1;32m    680\u001b[0m     \u001b[0mparser_f\u001b[0m\u001b[0;34m.\u001b[0m\u001b[0m__name__\u001b[0m \u001b[0;34m=\u001b[0m \u001b[0mname\u001b[0m\u001b[0;34m\u001b[0m\u001b[0m\n",
      "\u001b[0;32m/anaconda3/lib/python3.6/site-packages/pandas/io/parsers.py\u001b[0m in \u001b[0;36m_read\u001b[0;34m(filepath_or_buffer, kwds)\u001b[0m\n\u001b[1;32m    438\u001b[0m \u001b[0;34m\u001b[0m\u001b[0m\n\u001b[1;32m    439\u001b[0m     \u001b[0;31m# Create the parser.\u001b[0m\u001b[0;34m\u001b[0m\u001b[0;34m\u001b[0m\u001b[0m\n\u001b[0;32m--> 440\u001b[0;31m     \u001b[0mparser\u001b[0m \u001b[0;34m=\u001b[0m \u001b[0mTextFileReader\u001b[0m\u001b[0;34m(\u001b[0m\u001b[0mfilepath_or_buffer\u001b[0m\u001b[0;34m,\u001b[0m \u001b[0;34m**\u001b[0m\u001b[0mkwds\u001b[0m\u001b[0;34m)\u001b[0m\u001b[0;34m\u001b[0m\u001b[0m\n\u001b[0m\u001b[1;32m    441\u001b[0m \u001b[0;34m\u001b[0m\u001b[0m\n\u001b[1;32m    442\u001b[0m     \u001b[0;32mif\u001b[0m \u001b[0mchunksize\u001b[0m \u001b[0;32mor\u001b[0m \u001b[0miterator\u001b[0m\u001b[0;34m:\u001b[0m\u001b[0;34m\u001b[0m\u001b[0m\n",
      "\u001b[0;32m/anaconda3/lib/python3.6/site-packages/pandas/io/parsers.py\u001b[0m in \u001b[0;36m__init__\u001b[0;34m(self, f, engine, **kwds)\u001b[0m\n\u001b[1;32m    785\u001b[0m             \u001b[0mself\u001b[0m\u001b[0;34m.\u001b[0m\u001b[0moptions\u001b[0m\u001b[0;34m[\u001b[0m\u001b[0;34m'has_index_names'\u001b[0m\u001b[0;34m]\u001b[0m \u001b[0;34m=\u001b[0m \u001b[0mkwds\u001b[0m\u001b[0;34m[\u001b[0m\u001b[0;34m'has_index_names'\u001b[0m\u001b[0;34m]\u001b[0m\u001b[0;34m\u001b[0m\u001b[0m\n\u001b[1;32m    786\u001b[0m \u001b[0;34m\u001b[0m\u001b[0m\n\u001b[0;32m--> 787\u001b[0;31m         \u001b[0mself\u001b[0m\u001b[0;34m.\u001b[0m\u001b[0m_make_engine\u001b[0m\u001b[0;34m(\u001b[0m\u001b[0mself\u001b[0m\u001b[0;34m.\u001b[0m\u001b[0mengine\u001b[0m\u001b[0;34m)\u001b[0m\u001b[0;34m\u001b[0m\u001b[0m\n\u001b[0m\u001b[1;32m    788\u001b[0m \u001b[0;34m\u001b[0m\u001b[0m\n\u001b[1;32m    789\u001b[0m     \u001b[0;32mdef\u001b[0m \u001b[0mclose\u001b[0m\u001b[0;34m(\u001b[0m\u001b[0mself\u001b[0m\u001b[0;34m)\u001b[0m\u001b[0;34m:\u001b[0m\u001b[0;34m\u001b[0m\u001b[0m\n",
      "\u001b[0;32m/anaconda3/lib/python3.6/site-packages/pandas/io/parsers.py\u001b[0m in \u001b[0;36m_make_engine\u001b[0;34m(self, engine)\u001b[0m\n\u001b[1;32m   1012\u001b[0m     \u001b[0;32mdef\u001b[0m \u001b[0m_make_engine\u001b[0m\u001b[0;34m(\u001b[0m\u001b[0mself\u001b[0m\u001b[0;34m,\u001b[0m \u001b[0mengine\u001b[0m\u001b[0;34m=\u001b[0m\u001b[0;34m'c'\u001b[0m\u001b[0;34m)\u001b[0m\u001b[0;34m:\u001b[0m\u001b[0;34m\u001b[0m\u001b[0m\n\u001b[1;32m   1013\u001b[0m         \u001b[0;32mif\u001b[0m \u001b[0mengine\u001b[0m \u001b[0;34m==\u001b[0m \u001b[0;34m'c'\u001b[0m\u001b[0;34m:\u001b[0m\u001b[0;34m\u001b[0m\u001b[0m\n\u001b[0;32m-> 1014\u001b[0;31m             \u001b[0mself\u001b[0m\u001b[0;34m.\u001b[0m\u001b[0m_engine\u001b[0m \u001b[0;34m=\u001b[0m \u001b[0mCParserWrapper\u001b[0m\u001b[0;34m(\u001b[0m\u001b[0mself\u001b[0m\u001b[0;34m.\u001b[0m\u001b[0mf\u001b[0m\u001b[0;34m,\u001b[0m \u001b[0;34m**\u001b[0m\u001b[0mself\u001b[0m\u001b[0;34m.\u001b[0m\u001b[0moptions\u001b[0m\u001b[0;34m)\u001b[0m\u001b[0;34m\u001b[0m\u001b[0m\n\u001b[0m\u001b[1;32m   1015\u001b[0m         \u001b[0;32melse\u001b[0m\u001b[0;34m:\u001b[0m\u001b[0;34m\u001b[0m\u001b[0m\n\u001b[1;32m   1016\u001b[0m             \u001b[0;32mif\u001b[0m \u001b[0mengine\u001b[0m \u001b[0;34m==\u001b[0m \u001b[0;34m'python'\u001b[0m\u001b[0;34m:\u001b[0m\u001b[0;34m\u001b[0m\u001b[0m\n",
      "\u001b[0;32m/anaconda3/lib/python3.6/site-packages/pandas/io/parsers.py\u001b[0m in \u001b[0;36m__init__\u001b[0;34m(self, src, **kwds)\u001b[0m\n\u001b[1;32m   1706\u001b[0m         \u001b[0mkwds\u001b[0m\u001b[0;34m[\u001b[0m\u001b[0;34m'usecols'\u001b[0m\u001b[0;34m]\u001b[0m \u001b[0;34m=\u001b[0m \u001b[0mself\u001b[0m\u001b[0;34m.\u001b[0m\u001b[0musecols\u001b[0m\u001b[0;34m\u001b[0m\u001b[0m\n\u001b[1;32m   1707\u001b[0m \u001b[0;34m\u001b[0m\u001b[0m\n\u001b[0;32m-> 1708\u001b[0;31m         \u001b[0mself\u001b[0m\u001b[0;34m.\u001b[0m\u001b[0m_reader\u001b[0m \u001b[0;34m=\u001b[0m \u001b[0mparsers\u001b[0m\u001b[0;34m.\u001b[0m\u001b[0mTextReader\u001b[0m\u001b[0;34m(\u001b[0m\u001b[0msrc\u001b[0m\u001b[0;34m,\u001b[0m \u001b[0;34m**\u001b[0m\u001b[0mkwds\u001b[0m\u001b[0;34m)\u001b[0m\u001b[0;34m\u001b[0m\u001b[0m\n\u001b[0m\u001b[1;32m   1709\u001b[0m \u001b[0;34m\u001b[0m\u001b[0m\n\u001b[1;32m   1710\u001b[0m         \u001b[0mpassed_names\u001b[0m \u001b[0;34m=\u001b[0m \u001b[0mself\u001b[0m\u001b[0;34m.\u001b[0m\u001b[0mnames\u001b[0m \u001b[0;32mis\u001b[0m \u001b[0;32mNone\u001b[0m\u001b[0;34m\u001b[0m\u001b[0m\n",
      "\u001b[0;32mpandas/_libs/parsers.pyx\u001b[0m in \u001b[0;36mpandas._libs.parsers.TextReader.__cinit__\u001b[0;34m()\u001b[0m\n",
      "\u001b[0;32mpandas/_libs/parsers.pyx\u001b[0m in \u001b[0;36mpandas._libs.parsers.TextReader._setup_parser_source\u001b[0;34m()\u001b[0m\n",
      "\u001b[0;31mFileNotFoundError\u001b[0m: File b'./data/dismissed_complete.csv' does not exist"
     ]
    }
   ],
   "source": [
    "# Load data of dismissed authors\n",
    "data_dismiss = pd.read_csv('./data/dismissed_complete.csv')\n",
    "data_dismiss.head(2)"
   ]
  },
  {
   "cell_type": "code",
   "execution_count": 4,
   "metadata": {
    "scrolled": true
   },
   "outputs": [
    {
     "data": {
      "text/html": [
       "<div>\n",
       "<style scoped>\n",
       "    .dataframe tbody tr th:only-of-type {\n",
       "        vertical-align: middle;\n",
       "    }\n",
       "\n",
       "    .dataframe tbody tr th {\n",
       "        vertical-align: top;\n",
       "    }\n",
       "\n",
       "    .dataframe thead th {\n",
       "        text-align: right;\n",
       "    }\n",
       "</style>\n",
       "<table border=\"1\" class=\"dataframe\">\n",
       "  <thead>\n",
       "    <tr style=\"text-align: right;\">\n",
       "      <th></th>\n",
       "      <th>FullName</th>\n",
       "      <th>abstract</th>\n",
       "      <th>category_info</th>\n",
       "      <th>doctype</th>\n",
       "      <th>issue</th>\n",
       "      <th>keywords</th>\n",
       "      <th>language</th>\n",
       "      <th>name_info</th>\n",
       "      <th>publish_date</th>\n",
       "      <th>pubtype</th>\n",
       "      <th>source</th>\n",
       "      <th>title</th>\n",
       "      <th>uid</th>\n",
       "      <th>vol</th>\n",
       "    </tr>\n",
       "  </thead>\n",
       "  <tbody>\n",
       "    <tr>\n",
       "      <th>0</th>\n",
       "      <td>Eroglu Ilhan</td>\n",
       "      <td>In this research, the performance of inflation...</td>\n",
       "      <td>{'headings': ['Social Sciences'], 'subheadings...</td>\n",
       "      <td>Article</td>\n",
       "      <td>1</td>\n",
       "      <td>[Inflation, inflation targeting, price stabili...</td>\n",
       "      <td>[English]</td>\n",
       "      <td>{'Eroglu, Ilhan': {'daisng_id': '11528418', 'r...</td>\n",
       "      <td>2017-06-28</td>\n",
       "      <td>Journal</td>\n",
       "      <td>ECONOMIC RESEARCH-EKONOMSKA ISTRAZIVANJA</td>\n",
       "      <td>An evaluation of the effectiveness of an infla...</td>\n",
       "      <td>WOS:000414188100001</td>\n",
       "      <td>30</td>\n",
       "    </tr>\n",
       "    <tr>\n",
       "      <th>1</th>\n",
       "      <td>Eroglu Ilhan</td>\n",
       "      <td>Following the 2008 global financial crisis, th...</td>\n",
       "      <td>{'headings': ['Social Sciences'], 'subheadings...</td>\n",
       "      <td>Article</td>\n",
       "      <td>1</td>\n",
       "      <td>[Financial crisis, interest rate, budget defic...</td>\n",
       "      <td>[English]</td>\n",
       "      <td>{'Temur, Yusuf': {'daisng_id': '20997302', 'ro...</td>\n",
       "      <td>2017-01-01</td>\n",
       "      <td>Journal</td>\n",
       "      <td>ECONOMIC RESEARCH-EKONOMSKA ISTRAZIVANJA</td>\n",
       "      <td>Identifying relationship between macroeconomic...</td>\n",
       "      <td>WOS:000400797200001</td>\n",
       "      <td>30</td>\n",
       "    </tr>\n",
       "  </tbody>\n",
       "</table>\n",
       "</div>"
      ],
      "text/plain": [
       "       FullName                                           abstract  \\\n",
       "0  Eroglu Ilhan  In this research, the performance of inflation...   \n",
       "1  Eroglu Ilhan  Following the 2008 global financial crisis, th...   \n",
       "\n",
       "                                       category_info  doctype issue  \\\n",
       "0  {'headings': ['Social Sciences'], 'subheadings...  Article     1   \n",
       "1  {'headings': ['Social Sciences'], 'subheadings...  Article     1   \n",
       "\n",
       "                                            keywords   language  \\\n",
       "0  [Inflation, inflation targeting, price stabili...  [English]   \n",
       "1  [Financial crisis, interest rate, budget defic...  [English]   \n",
       "\n",
       "                                           name_info publish_date  pubtype  \\\n",
       "0  {'Eroglu, Ilhan': {'daisng_id': '11528418', 'r...   2017-06-28  Journal   \n",
       "1  {'Temur, Yusuf': {'daisng_id': '20997302', 'ro...   2017-01-01  Journal   \n",
       "\n",
       "                                     source  \\\n",
       "0  ECONOMIC RESEARCH-EKONOMSKA ISTRAZIVANJA   \n",
       "1  ECONOMIC RESEARCH-EKONOMSKA ISTRAZIVANJA   \n",
       "\n",
       "                                               title                  uid vol  \n",
       "0  An evaluation of the effectiveness of an infla...  WOS:000414188100001  30  \n",
       "1  Identifying relationship between macroeconomic...  WOS:000400797200001  30  "
      ]
     },
     "execution_count": 4,
     "metadata": {},
     "output_type": "execute_result"
    }
   ],
   "source": [
    "# Load data of undismissed authors for Word2vec and Bag-of-words\n",
    "with open('./data/not_dismissed_dataset.pickle', 'rb') as handle:\n",
    "    data_not_dismiss = pickle.load(handle)\n",
    "data_not_dismiss.head(2)"
   ]
  },
  {
   "cell_type": "markdown",
   "metadata": {},
   "source": [
    "## 1. Data Pre-processing\n",
    "Data scraped from [Web of Science](http://apps.webofknowledge.com/WOS_GeneralSearch_input.do?product=WOS&search_mode=GeneralSearch&SID=F41mtBBV1mNZKmygFN7&preferencesSaved=) is unavoidably messy, we have to pre-process the data before we utilize it. We wrap each author name and all his matched papers (put those data to a `pandas.DataFrame` format) as one key-value pair of dictionary, such as {Author: Paper_DataFrame}.\n",
    "\n",
    "The following is the data obtained after pre-processing, load it to skip data pre-processing and get results directly."
   ]
  },
  {
   "cell_type": "code",
   "execution_count": null,
   "metadata": {},
   "outputs": [],
   "source": [
    "with open('./data/not_dis_author_dict.pickle', 'rb') as handle:\n",
    "    not_dis_author_dict = pickle.load(handle)\n",
    "    \n",
    "with open('./data/author_explict_dict.pickle', 'rb') as handle:\n",
    "    author_explict_dict = pickle.load(handle)\n",
    "    \n",
    "# Those two datasets are generated by Undis_List_Generation_for_FastText.ipynb\n",
    "not_dis_author_dict_fasttext = pd.read_csv('./data/no_dis_auth_vec_2.csv')\n",
    "total_no_dis_pub = pd.read_csv('./Data/total_no_dis_pub_2.csv')"
   ]
  },
  {
   "cell_type": "markdown",
   "metadata": {},
   "source": [
    "### 1.1 Dismissed Author List Pre-processing\n",
    "Process **dismissed author list**:\n",
    "- Get the abbreviation names of authors in **dismissed author list** (e.g. using 'AYDIN A.' to represent 'AYDIN AYDIN').\n",
    "- Drop 'bad' names such as names with only family name or with more than three words, which only account for less than 1% of all names.\n",
    "- We find most authors in **dismissed author list** have 'UNIVERSITY' as the end of their `Affiliation` (>99%), we drop those authors whose `Affiliation` does not end with 'UNIVERSITY'. Change 'UNIVERSITY' in `Affiliation` to 'UNIV' for the simplity of following matching."
   ]
  },
  {
   "cell_type": "code",
   "execution_count": 5,
   "metadata": {},
   "outputs": [],
   "source": [
    "def get_abbreviation(x):\n",
    "    '''\n",
    "    Get the abbreviation name by giving the full name.\n",
    "    \n",
    "    Input:\n",
    "        x: string - A full name.\n",
    "        \n",
    "    Return:\n",
    "        Return an abbreviation name.\n",
    "    '''\n",
    "    x_abbr = x.split(' ')[0] + ' '\n",
    "    # Not only 1 word in name\n",
    "    if len(x.split(' ')[-1])!=0:\n",
    "        for i in range(1, len(x.split(' '))):\n",
    "            x_abbr =  x_abbr + x.split(' ')[i][0] \n",
    "    else:\n",
    "        x_abbr = np.nan\n",
    "    return x_abbr"
   ]
  },
  {
   "cell_type": "code",
   "execution_count": 6,
   "metadata": {},
   "outputs": [],
   "source": [
    "# Add explicit Abbrname: Two guys only has his family name in list, we drop it\n",
    "auth_aff_df['Author_Abbr_explicit'] = auth_aff_df['Author'].map(lambda x: get_abbreviation(x)).values\n",
    "\n",
    "# Add implicit Abbrname: Used for rough selection\n",
    "auth_aff_df['Author_Abbr_implicit'] = auth_aff_df['Author'].map(lambda x: x.split(' ')[0] + ' ' + x.split(' ')[1][0] + '*'\\\n",
    "                                                           if len(x.split(' ')[-1])!=0 else np.nan).values\n",
    "auth_aff_df.dropna(inplace=True)\n",
    "\n",
    "# Drop guys with four or more words in their name, actually only 23 of it\n",
    "auth_aff_df['Author'] = auth_aff_df['Author'].map(lambda x:np.nan if len(x.split(' '))>3 else x)\n",
    "auth_aff_df.dropna(inplace=True)"
   ]
  },
  {
   "cell_type": "code",
   "execution_count": 7,
   "metadata": {},
   "outputs": [
    {
     "name": "stdout",
     "output_type": "stream",
     "text": [
      "Rate of Affiliation end with UNIVERSITY: 0.99775\n"
     ]
    },
    {
     "data": {
      "text/html": [
       "<div>\n",
       "<style scoped>\n",
       "    .dataframe tbody tr th:only-of-type {\n",
       "        vertical-align: middle;\n",
       "    }\n",
       "\n",
       "    .dataframe tbody tr th {\n",
       "        vertical-align: top;\n",
       "    }\n",
       "\n",
       "    .dataframe thead th {\n",
       "        text-align: right;\n",
       "    }\n",
       "</style>\n",
       "<table border=\"1\" class=\"dataframe\">\n",
       "  <thead>\n",
       "    <tr style=\"text-align: right;\">\n",
       "      <th></th>\n",
       "      <th>Author</th>\n",
       "      <th>Affiliation</th>\n",
       "      <th>Author_Abbr_explicit</th>\n",
       "      <th>Author_Abbr_implicit</th>\n",
       "    </tr>\n",
       "  </thead>\n",
       "  <tbody>\n",
       "    <tr>\n",
       "      <th>344</th>\n",
       "      <td>NESLITURK ALI IHSAN</td>\n",
       "      <td>IZMIR YUKSEL TEKNOLOJI ENS.</td>\n",
       "      <td>NESLITURK AI</td>\n",
       "      <td>NESLITURK A*</td>\n",
       "    </tr>\n",
       "    <tr>\n",
       "      <th>1140</th>\n",
       "      <td>OZATAGAN GULDEM</td>\n",
       "      <td>IZMIR YUKSEK TEKNOLOJI ENS</td>\n",
       "      <td>OZATAGAN G</td>\n",
       "      <td>OZATAGAN G*</td>\n",
       "    </tr>\n",
       "    <tr>\n",
       "      <th>1779</th>\n",
       "      <td>PENCECIOGLU MEHMET</td>\n",
       "      <td>IZMIR YUKSEK TEKNOLOJI ENS</td>\n",
       "      <td>PENCECIOGLU M</td>\n",
       "      <td>PENCECIOGLU M*</td>\n",
       "    </tr>\n",
       "    <tr>\n",
       "      <th>2159</th>\n",
       "      <td>KOKSAL MUSTAFA</td>\n",
       "      <td>IZMIR YUKSEL TEKNOLOJI ENS.</td>\n",
       "      <td>KOKSAL M</td>\n",
       "      <td>KOKSAL M*</td>\n",
       "    </tr>\n",
       "    <tr>\n",
       "      <th>2699</th>\n",
       "      <td>AFYON SEMIH</td>\n",
       "      <td>IZMIR YUKSEL TEKNOLOJI ENS.</td>\n",
       "      <td>AFYON S</td>\n",
       "      <td>AFYON S*</td>\n",
       "    </tr>\n",
       "    <tr>\n",
       "      <th>3056</th>\n",
       "      <td>YAYLAR YASIN</td>\n",
       "      <td>AHI EVRAN UV</td>\n",
       "      <td>YAYLAR Y</td>\n",
       "      <td>YAYLAR Y*</td>\n",
       "    </tr>\n",
       "    <tr>\n",
       "      <th>3304</th>\n",
       "      <td>OZTURK OZGUR</td>\n",
       "      <td>IZMIR YUKSEL TEKNOLOJI ENS.</td>\n",
       "      <td>OZTURK O</td>\n",
       "      <td>OZTURK O*</td>\n",
       "    </tr>\n",
       "    <tr>\n",
       "      <th>3568</th>\n",
       "      <td>BOYLU SUKRU</td>\n",
       "      <td>ADNAN MENDERES UV</td>\n",
       "      <td>BOYLU S</td>\n",
       "      <td>BOYLU S*</td>\n",
       "    </tr>\n",
       "  </tbody>\n",
       "</table>\n",
       "</div>"
      ],
      "text/plain": [
       "                   Author                  Affiliation Author_Abbr_explicit  \\\n",
       "344   NESLITURK ALI IHSAN  IZMIR YUKSEL TEKNOLOJI ENS.         NESLITURK AI   \n",
       "1140      OZATAGAN GULDEM   IZMIR YUKSEK TEKNOLOJI ENS           OZATAGAN G   \n",
       "1779   PENCECIOGLU MEHMET   IZMIR YUKSEK TEKNOLOJI ENS        PENCECIOGLU M   \n",
       "2159       KOKSAL MUSTAFA  IZMIR YUKSEL TEKNOLOJI ENS.             KOKSAL M   \n",
       "2699          AFYON SEMIH  IZMIR YUKSEL TEKNOLOJI ENS.              AFYON S   \n",
       "3056         YAYLAR YASIN                 AHI EVRAN UV             YAYLAR Y   \n",
       "3304         OZTURK OZGUR  IZMIR YUKSEL TEKNOLOJI ENS.             OZTURK O   \n",
       "3568          BOYLU SUKRU            ADNAN MENDERES UV              BOYLU S   \n",
       "\n",
       "     Author_Abbr_implicit  \n",
       "344          NESLITURK A*  \n",
       "1140          OZATAGAN G*  \n",
       "1779       PENCECIOGLU M*  \n",
       "2159            KOKSAL M*  \n",
       "2699             AFYON S*  \n",
       "3056            YAYLAR Y*  \n",
       "3304            OZTURK O*  \n",
       "3568             BOYLU S*  "
      ]
     },
     "execution_count": 7,
     "metadata": {},
     "output_type": "execute_result"
    }
   ],
   "source": [
    "# We find most data in dismissed author list has ‘UNIVERSITY’ as the end of 'Affiliation'\n",
    "indication_var = auth_aff_df.Affiliation.str.contains('.*UNIVERSITY$')\n",
    "rate = np.sum(indication_var) / auth_aff_df.shape[0]\n",
    "print('Rate of Affiliation end with UNIVERSITY: {:.5f}'.format(rate))\n",
    "auth_aff_df[indication_var.map(lambda x: not x)]"
   ]
  },
  {
   "cell_type": "code",
   "execution_count": 8,
   "metadata": {
    "scrolled": true
   },
   "outputs": [
    {
     "data": {
      "text/html": [
       "<div>\n",
       "<style scoped>\n",
       "    .dataframe tbody tr th:only-of-type {\n",
       "        vertical-align: middle;\n",
       "    }\n",
       "\n",
       "    .dataframe tbody tr th {\n",
       "        vertical-align: top;\n",
       "    }\n",
       "\n",
       "    .dataframe thead th {\n",
       "        text-align: right;\n",
       "    }\n",
       "</style>\n",
       "<table border=\"1\" class=\"dataframe\">\n",
       "  <thead>\n",
       "    <tr style=\"text-align: right;\">\n",
       "      <th></th>\n",
       "      <th>Author</th>\n",
       "      <th>Affiliation</th>\n",
       "      <th>Author_Abbr_explicit</th>\n",
       "      <th>Author_Abbr_implicit</th>\n",
       "    </tr>\n",
       "  </thead>\n",
       "  <tbody>\n",
       "    <tr>\n",
       "      <th>0</th>\n",
       "      <td>AYDIN AYDIN</td>\n",
       "      <td>SULEYMAN DEMIREL UNIV</td>\n",
       "      <td>AYDIN A</td>\n",
       "      <td>AYDIN A*</td>\n",
       "    </tr>\n",
       "    <tr>\n",
       "      <th>1</th>\n",
       "      <td>GILGIL ERDAL</td>\n",
       "      <td>AKDENIZ UNIV</td>\n",
       "      <td>GILGIL E</td>\n",
       "      <td>GILGIL E*</td>\n",
       "    </tr>\n",
       "  </tbody>\n",
       "</table>\n",
       "</div>"
      ],
      "text/plain": [
       "         Author            Affiliation Author_Abbr_explicit  \\\n",
       "0   AYDIN AYDIN  SULEYMAN DEMIREL UNIV              AYDIN A   \n",
       "1  GILGIL ERDAL           AKDENIZ UNIV             GILGIL E   \n",
       "\n",
       "  Author_Abbr_implicit  \n",
       "0             AYDIN A*  \n",
       "1            GILGIL E*  "
      ]
     },
     "execution_count": 8,
     "metadata": {},
     "output_type": "execute_result"
    }
   ],
   "source": [
    "# Change to UNIV\n",
    "auth_aff_df['Affiliation'] = auth_aff_df['Affiliation'].map(lambda x: x.replace('UNIVERSITY', 'UNIV')\\\n",
    "                                                                if 'UNIVERSITY' in x else x)\n",
    "auth_aff_df.head(2)"
   ]
  },
  {
   "cell_type": "markdown",
   "metadata": {},
   "source": [
    "### 1.2 Dismissed Data Pre-processing\n",
    "For **Dismissed Data**, we apply methods as follow **first**:\n",
    "- Since some authors may collaborate on papers, some rows in the Paper DataFrame might be same. We drop the duplicated rows in the Paper DataFrame.\n",
    "- Author info features(such as `keywords` and `name_info`) are in string, we spilt them and turn them into dict and list.\n",
    "- Turn `keywords` features into lower case."
   ]
  },
  {
   "cell_type": "code",
   "execution_count": 9,
   "metadata": {
    "scrolled": true
   },
   "outputs": [
    {
     "data": {
      "text/html": [
       "<div>\n",
       "<style scoped>\n",
       "    .dataframe tbody tr th:only-of-type {\n",
       "        vertical-align: middle;\n",
       "    }\n",
       "\n",
       "    .dataframe tbody tr th {\n",
       "        vertical-align: top;\n",
       "    }\n",
       "\n",
       "    .dataframe thead th {\n",
       "        text-align: right;\n",
       "    }\n",
       "</style>\n",
       "<table border=\"1\" class=\"dataframe\">\n",
       "  <thead>\n",
       "    <tr style=\"text-align: right;\">\n",
       "      <th></th>\n",
       "      <th>doctype</th>\n",
       "      <th>keywords</th>\n",
       "      <th>language</th>\n",
       "      <th>name_info</th>\n",
       "      <th>publish_date</th>\n",
       "      <th>pubtype</th>\n",
       "      <th>source</th>\n",
       "      <th>title</th>\n",
       "      <th>AbbrNames</th>\n",
       "      <th>uid</th>\n",
       "      <th>heading</th>\n",
       "      <th>subheading</th>\n",
       "      <th>traditional_sub</th>\n",
       "      <th>extended_sub</th>\n",
       "    </tr>\n",
       "  </thead>\n",
       "  <tbody>\n",
       "    <tr>\n",
       "      <th>0</th>\n",
       "      <td>Article</td>\n",
       "      <td>[coal, geostatistics, kriging, turkey, variogram]</td>\n",
       "      <td>['English']</td>\n",
       "      <td>{'DEMIREL I*': {'daisng_id': '1674276', 'role'...</td>\n",
       "      <td>2000-12-01</td>\n",
       "      <td>Journal</td>\n",
       "      <td>ENERGY SOURCES</td>\n",
       "      <td>Geostatistical reserve estimation: A case stud...</td>\n",
       "      <td>['DEMIREL I*', 'SARAC C*', 'SEN O*']</td>\n",
       "      <td>WOS:000165681500009</td>\n",
       "      <td>['Science &amp; Technology']</td>\n",
       "      <td>['Technology']</td>\n",
       "      <td>['Energy &amp; Fuels', 'Engineering, Chemical']</td>\n",
       "      <td>['Energy &amp; Fuels', 'Engineering']</td>\n",
       "    </tr>\n",
       "    <tr>\n",
       "      <th>1</th>\n",
       "      <td>Article</td>\n",
       "      <td>[ozone, pulp bleaching, pretreatment, algal tr...</td>\n",
       "      <td>['English']</td>\n",
       "      <td>{'BALCIOGLU I*': {'daisng_id': '897760', 'role...</td>\n",
       "      <td>2006-12-01</td>\n",
       "      <td>Journal</td>\n",
       "      <td>OZONE-SCIENCE &amp; ENGINEERING</td>\n",
       "      <td>Application of ozonation and biotreatment for ...</td>\n",
       "      <td>['BALCIOGLU I*', 'SARAC C*', 'KIVILCIMDAN C*',...</td>\n",
       "      <td>WOS:000242899300005</td>\n",
       "      <td>['Science &amp; Technology']</td>\n",
       "      <td>['Technology', 'Life Sciences &amp; Biomedicine']</td>\n",
       "      <td>['Engineering, Environmental', 'Environmental ...</td>\n",
       "      <td>['Engineering', 'Environmental Sciences &amp; Ecol...</td>\n",
       "    </tr>\n",
       "  </tbody>\n",
       "</table>\n",
       "</div>"
      ],
      "text/plain": [
       "   doctype                                           keywords     language  \\\n",
       "0  Article  [coal, geostatistics, kriging, turkey, variogram]  ['English']   \n",
       "1  Article  [ozone, pulp bleaching, pretreatment, algal tr...  ['English']   \n",
       "\n",
       "                                           name_info publish_date  pubtype  \\\n",
       "0  {'DEMIREL I*': {'daisng_id': '1674276', 'role'...   2000-12-01  Journal   \n",
       "1  {'BALCIOGLU I*': {'daisng_id': '897760', 'role...   2006-12-01  Journal   \n",
       "\n",
       "                        source  \\\n",
       "0               ENERGY SOURCES   \n",
       "1  OZONE-SCIENCE & ENGINEERING   \n",
       "\n",
       "                                               title  \\\n",
       "0  Geostatistical reserve estimation: A case stud...   \n",
       "1  Application of ozonation and biotreatment for ...   \n",
       "\n",
       "                                           AbbrNames                  uid  \\\n",
       "0               ['DEMIREL I*', 'SARAC C*', 'SEN O*']  WOS:000165681500009   \n",
       "1  ['BALCIOGLU I*', 'SARAC C*', 'KIVILCIMDAN C*',...  WOS:000242899300005   \n",
       "\n",
       "                    heading                                     subheading  \\\n",
       "0  ['Science & Technology']                                 ['Technology']   \n",
       "1  ['Science & Technology']  ['Technology', 'Life Sciences & Biomedicine']   \n",
       "\n",
       "                                     traditional_sub  \\\n",
       "0        ['Energy & Fuels', 'Engineering, Chemical']   \n",
       "1  ['Engineering, Environmental', 'Environmental ...   \n",
       "\n",
       "                                        extended_sub  \n",
       "0                  ['Energy & Fuels', 'Engineering']  \n",
       "1  ['Engineering', 'Environmental Sciences & Ecol...  "
      ]
     },
     "execution_count": 9,
     "metadata": {},
     "output_type": "execute_result"
    }
   ],
   "source": [
    "data_dismiss = data_dismiss.rename(columns = {'subheadind':'subheading'})\n",
    "# Some authors may have same papers, drop them\n",
    "data_dismiss.drop_duplicates(inplace=True)\n",
    "\n",
    "# Change string data to dict and list\n",
    "data_dismiss['name_info'] = data_dismiss.name_info.map(lambda x: eval(x)).values\n",
    "data_dismiss['keywords'] = list(map(lambda x: eval(x) if type(x)==type('string') else x, \\\n",
    "                                    data_dismiss.keywords.values.tolist()))\n",
    "# Turn key words into lower case\n",
    "keyword_dup_bypaper = []\n",
    "for keywords_list in data_dismiss.keywords.values:\n",
    "    if str(keywords_list)!='nan':\n",
    "        keyword_dup_bypaper.append([x.lower() for x in keywords_list])\n",
    "    else:\n",
    "        keyword_dup_bypaper.append(keywords_list)\n",
    "data_dismiss['keywords'] = keyword_dup_bypaper\n",
    "\n",
    "# Display pre-processed data after first stage\n",
    "data_dismiss.head(2)"
   ]
  },
  {
   "cell_type": "markdown",
   "metadata": {},
   "source": [
    "**Secondly**, since some authors of papers are represented in abbreviation names (e.g. using 'AYDIN A.' to represent 'AYDIN AYDIN'), we can not just search full names to have paper results, which obviously will ignore some necessary papers. In order to avoid such problem, we use abbreviation names of authors to search paper results and scrape data.\n",
    "\n",
    "However, the data scraped by abbreviation names can contain lots of papers written by researchers having the same abbreviation names. To select corresponding papers of specific authors in data:\n",
    "- We match papers to authors in **dismissed author list** by `display_name` and `organization`.\n",
    "- If one paper has an author with the same `display_name` and `organization` as one in **dismissed author list**, we regard it as the matched paper and match it to this author.\n",
    "- Then we wrap each author name and all his matched papers(`pandas.DataFrame`) as one key-value pair of dictionary, such as `{Author: Paper_DataFrame}`."
   ]
  },
  {
   "cell_type": "code",
   "execution_count": 10,
   "metadata": {},
   "outputs": [],
   "source": [
    "def match_fullname_affiliation(Affiliation, Author, Author_Abbr_implicit, Author_Abbr_explicit, Author_Abbr_matched_set):\n",
    "    '''\n",
    "    Match full names and affiliations of items in dismissed author list.\n",
    "    \n",
    "    Input:    \n",
    "        Affiliation: Affiliations of authors in dismissed author list.\n",
    "        Author: Names of authors in dismissed author list.\n",
    "        Author_Abbr_implicit: Used for explicit match.\n",
    "        Author_Abbr_explicit: Used for rough selection.\n",
    "        Author_Abbr_matched_set: Dismissed author list.\n",
    "        \n",
    "    Return:\n",
    "        Wrap matched papers data to a pandas.DataFrame and return it.\n",
    "    '''\n",
    "    explicit_set = []\n",
    "    for i in range(Author_Abbr_matched_set.shape[0]):\n",
    "        try:\n",
    "            address = Author_Abbr_matched_set.iloc[i]['name_info'][Author_Abbr_implicit]['address']['organization'].upper()\n",
    "            # full name\n",
    "            display_name_opt1 = Author_Abbr_matched_set.iloc[i]['name_info'][Author_Abbr_implicit]['display_name'].upper().replace(',','')\n",
    "            # Abbrevation:\n",
    "            # 1. Because we drop all names >3 words in auth_aff_df, so we only consider name with lenth<=3 in data_dismiss. \n",
    "            # 2. The corresponding second word in Abbrevation of data_dismiss at most contain 2 letters:\n",
    "            # Possible format: ['Jack Jay Mike']: 'Jack J. Mike', 'Jack J. M.', 'Jack J.'\n",
    "            display_name_opt2 = get_abbreviation(display_name_opt1)\\\n",
    "                if len(display_name_opt1.split(' ')[1])<=2 and 0<len(display_name_opt1.split(' ')[1]) else display_name_opt1\n",
    "            # If one item (paper) has same full name and affiliation as in List\n",
    "            if address == Affiliation and (display_name_opt1 == Author or display_name_opt2 == Author_Abbr_explicit):\n",
    "                explicit_set.append(True)\n",
    "            else:\n",
    "                explicit_set.append(False)\n",
    "        except:\n",
    "            explicit_set.append(False)\n",
    "    return Author_Abbr_matched_set[explicit_set]"
   ]
  },
  {
   "cell_type": "code",
   "execution_count": 11,
   "metadata": {
    "scrolled": true
   },
   "outputs": [
    {
     "data": {
      "text/html": [
       "<div>\n",
       "<style scoped>\n",
       "    .dataframe tbody tr th:only-of-type {\n",
       "        vertical-align: middle;\n",
       "    }\n",
       "\n",
       "    .dataframe tbody tr th {\n",
       "        vertical-align: top;\n",
       "    }\n",
       "\n",
       "    .dataframe thead th {\n",
       "        text-align: right;\n",
       "    }\n",
       "</style>\n",
       "<table border=\"1\" class=\"dataframe\">\n",
       "  <thead>\n",
       "    <tr style=\"text-align: right;\">\n",
       "      <th></th>\n",
       "      <th>doctype</th>\n",
       "      <th>keywords</th>\n",
       "      <th>language</th>\n",
       "      <th>name_info</th>\n",
       "      <th>publish_date</th>\n",
       "      <th>pubtype</th>\n",
       "      <th>source</th>\n",
       "      <th>title</th>\n",
       "      <th>AbbrNames</th>\n",
       "      <th>uid</th>\n",
       "      <th>heading</th>\n",
       "      <th>subheading</th>\n",
       "      <th>traditional_sub</th>\n",
       "      <th>extended_sub</th>\n",
       "    </tr>\n",
       "  </thead>\n",
       "  <tbody>\n",
       "    <tr>\n",
       "      <th>43524</th>\n",
       "      <td>Article</td>\n",
       "      <td>[trd chromizing, plasma nitriding, duplex trea...</td>\n",
       "      <td>['English']</td>\n",
       "      <td>{'TAKTAK S*': {'daisng_id': '1323449', 'role':...</td>\n",
       "      <td>2008-04-15</td>\n",
       "      <td>Journal</td>\n",
       "      <td>SURFACE &amp; COATINGS TECHNOLOGY</td>\n",
       "      <td>High temperature wear and friction properties ...</td>\n",
       "      <td>['TAKTAK S*', 'ULKER S*', 'GUNES I*']</td>\n",
       "      <td>WOS:000254867700030</td>\n",
       "      <td>['Science &amp; Technology']</td>\n",
       "      <td>['Technology', 'Physical Sciences']</td>\n",
       "      <td>['Materials Science, Coatings &amp; Films', 'Physi...</td>\n",
       "      <td>['Materials Science', 'Physics']</td>\n",
       "    </tr>\n",
       "    <tr>\n",
       "      <th>43544</th>\n",
       "      <td>Proceedings Paper</td>\n",
       "      <td>[borided layer, fracture toughness, boriding, ...</td>\n",
       "      <td>['English']</td>\n",
       "      <td>{'FRACKOWIAK M*': {'daisng_id': '27655463', 'r...</td>\n",
       "      <td>2018-01-01</td>\n",
       "      <td>Book in series</td>\n",
       "      <td>ADVANCES IN MANUFACTURING (MANUFACTURING 2017)</td>\n",
       "      <td>Fracture Toughness of Plasma Paste-Borided Lay...</td>\n",
       "      <td>['FRACKOWIAK M*', 'MAKUCH N*', 'DZIARSKI P*', ...</td>\n",
       "      <td>WOS:000441196700089</td>\n",
       "      <td>['Science &amp; Technology']</td>\n",
       "      <td>['Technology']</td>\n",
       "      <td>['Engineering, Industrial', 'Engineering, Manu...</td>\n",
       "      <td>['Engineering']</td>\n",
       "    </tr>\n",
       "  </tbody>\n",
       "</table>\n",
       "</div>"
      ],
      "text/plain": [
       "                 doctype                                           keywords  \\\n",
       "43524            Article  [trd chromizing, plasma nitriding, duplex trea...   \n",
       "43544  Proceedings Paper  [borided layer, fracture toughness, boriding, ...   \n",
       "\n",
       "          language                                          name_info  \\\n",
       "43524  ['English']  {'TAKTAK S*': {'daisng_id': '1323449', 'role':...   \n",
       "43544  ['English']  {'FRACKOWIAK M*': {'daisng_id': '27655463', 'r...   \n",
       "\n",
       "      publish_date         pubtype  \\\n",
       "43524   2008-04-15         Journal   \n",
       "43544   2018-01-01  Book in series   \n",
       "\n",
       "                                               source  \\\n",
       "43524                   SURFACE & COATINGS TECHNOLOGY   \n",
       "43544  ADVANCES IN MANUFACTURING (MANUFACTURING 2017)   \n",
       "\n",
       "                                                   title  \\\n",
       "43524  High temperature wear and friction properties ...   \n",
       "43544  Fracture Toughness of Plasma Paste-Borided Lay...   \n",
       "\n",
       "                                               AbbrNames                  uid  \\\n",
       "43524              ['TAKTAK S*', 'ULKER S*', 'GUNES I*']  WOS:000254867700030   \n",
       "43544  ['FRACKOWIAK M*', 'MAKUCH N*', 'DZIARSKI P*', ...  WOS:000441196700089   \n",
       "\n",
       "                        heading                           subheading  \\\n",
       "43524  ['Science & Technology']  ['Technology', 'Physical Sciences']   \n",
       "43544  ['Science & Technology']                       ['Technology']   \n",
       "\n",
       "                                         traditional_sub  \\\n",
       "43524  ['Materials Science, Coatings & Films', 'Physi...   \n",
       "43544  ['Engineering, Industrial', 'Engineering, Manu...   \n",
       "\n",
       "                           extended_sub  \n",
       "43524  ['Materials Science', 'Physics']  \n",
       "43544                   ['Engineering']  "
      ]
     },
     "execution_count": 11,
     "metadata": {},
     "output_type": "execute_result"
    }
   ],
   "source": [
    "# Dictionary used to store author's paper data in format: {Author: Paper_DataFrame}.\n",
    "author_explict_dict = {}\n",
    "for i in range(auth_aff_df.shape[0]):\n",
    "    Author_Abbr_implicit = auth_aff_df.iloc[i]['Author_Abbr_implicit']\n",
    "    Author_Abbr_explicit = auth_aff_df.iloc[i]['Author_Abbr_explicit']\n",
    "    Author = auth_aff_df.iloc[i]['Author']\n",
    "    Affiliation = auth_aff_df.iloc[i]['Affiliation']\n",
    "    # Add ' before Author_Abbr to ensure that it will not be matched to words that luckily contains it\n",
    "    Author_Abbr_match = '\\'' + Author_Abbr_implicit.strip('*') + '\\*'\n",
    "    # Get the Author_Abbr_matched_set, which is got by matching AbbrNames to Author_Abbr_implicit\n",
    "    indication_var = data_dismiss['AbbrNames'].str.contains(Author_Abbr_match)\n",
    "    Author_Abbr_matched_set = data_dismiss[indication_var]\n",
    "    # Match full names and affiliations of items in Author_Abbr_matched_set \n",
    "    explicit_set = match_fullname_affiliation(Affiliation, \n",
    "                                              Author, \n",
    "                                              Author_Abbr_implicit, \n",
    "                                              Author_Abbr_explicit, \n",
    "                                              Author_Abbr_matched_set)\n",
    "    if explicit_set.shape[0] != 0:\n",
    "        author_explict_dict.update({Author: {'BasicData':explicit_set}})\n",
    "# Show example of dictionary item\n",
    "author_explict_dict['TAKTAK SUKRU']['BasicData'].head(2)"
   ]
  },
  {
   "cell_type": "code",
   "execution_count": 12,
   "metadata": {},
   "outputs": [
    {
     "name": "stdout",
     "output_type": "stream",
     "text": [
      "Final dismissed Author number: 2004\n"
     ]
    }
   ],
   "source": [
    "print('Final dismissed Author number:', len(author_explict_dict.keys()))"
   ]
  },
  {
   "cell_type": "markdown",
   "metadata": {},
   "source": [
    "The final dismissed author number in dictionary is less than the author number in **dismissed author list**, for the sake of following reasons:\n",
    "- Some authors in **dismissed author list** do not have paper data in [Web of Science](http://apps.webofknowledge.com/WOS_GeneralSearch_input.do?product=WOS&search_mode=GeneralSearch&SID=F41mtBBV1mNZKmygFN7&preferencesSaved=). \n",
    "- Some authors in **dismissed author list** do not have `display_name` and `organization` features in [Web of Science](http://apps.webofknowledge.com/WOS_GeneralSearch_input.do?product=WOS&search_mode=GeneralSearch&SID=F41mtBBV1mNZKmygFN7&preferencesSaved=), which cannot be matched by `display_name` and `organization`.\n",
    "- Some papers do have `organization` features. However, these `organization` features contain addresses of all authors of paper and do not give a explicit corresponding relationship that tells which address is belong to which author ."
   ]
  },
  {
   "cell_type": "markdown",
   "metadata": {},
   "source": [
    "### 1.3 Undismissed Data Pre-processing\n",
    "For **Undismissed Data**, we apply methods as follow **first**:\n",
    "- The undismissed data and dismissed data are scraped by different groups and have different formats. First, we arrange the undismissed data to the same format as dismissed data.\n",
    "- Turn keywords features into lower case."
   ]
  },
  {
   "cell_type": "code",
   "execution_count": 13,
   "metadata": {
    "scrolled": true
   },
   "outputs": [
    {
     "data": {
      "text/html": [
       "<div>\n",
       "<style scoped>\n",
       "    .dataframe tbody tr th:only-of-type {\n",
       "        vertical-align: middle;\n",
       "    }\n",
       "\n",
       "    .dataframe tbody tr th {\n",
       "        vertical-align: top;\n",
       "    }\n",
       "\n",
       "    .dataframe thead th {\n",
       "        text-align: right;\n",
       "    }\n",
       "</style>\n",
       "<table border=\"1\" class=\"dataframe\">\n",
       "  <thead>\n",
       "    <tr style=\"text-align: right;\">\n",
       "      <th></th>\n",
       "      <th>doctype</th>\n",
       "      <th>keywords</th>\n",
       "      <th>language</th>\n",
       "      <th>name_info</th>\n",
       "      <th>publish_date</th>\n",
       "      <th>pubtype</th>\n",
       "      <th>source</th>\n",
       "      <th>title</th>\n",
       "      <th>FullName</th>\n",
       "      <th>uid</th>\n",
       "      <th>heading</th>\n",
       "      <th>subheading</th>\n",
       "      <th>traditional_sub</th>\n",
       "      <th>extended_sub</th>\n",
       "    </tr>\n",
       "  </thead>\n",
       "  <tbody>\n",
       "    <tr>\n",
       "      <th>0</th>\n",
       "      <td>Article</td>\n",
       "      <td>[inflation, inflation targeting, price stabili...</td>\n",
       "      <td>[English]</td>\n",
       "      <td>{'Eroglu Ilhan': {'daisng_id': '11528418', 'ro...</td>\n",
       "      <td>2017-06-28</td>\n",
       "      <td>Journal</td>\n",
       "      <td>ECONOMIC RESEARCH-EKONOMSKA ISTRAZIVANJA</td>\n",
       "      <td>An evaluation of the effectiveness of an infla...</td>\n",
       "      <td>Eroglu Ilhan</td>\n",
       "      <td>WOS:000414188100001</td>\n",
       "      <td>[Social Sciences]</td>\n",
       "      <td>None</td>\n",
       "      <td>[Economics]</td>\n",
       "      <td>[Business &amp; Economics]</td>\n",
       "    </tr>\n",
       "    <tr>\n",
       "      <th>1</th>\n",
       "      <td>Article</td>\n",
       "      <td>[financial crisis, interest rate, budget defic...</td>\n",
       "      <td>[English]</td>\n",
       "      <td>{'Temur Yusuf': {'daisng_id': '20997302', 'rol...</td>\n",
       "      <td>2017-01-01</td>\n",
       "      <td>Journal</td>\n",
       "      <td>ECONOMIC RESEARCH-EKONOMSKA ISTRAZIVANJA</td>\n",
       "      <td>Identifying relationship between macroeconomic...</td>\n",
       "      <td>Eroglu Ilhan</td>\n",
       "      <td>WOS:000400797200001</td>\n",
       "      <td>[Social Sciences]</td>\n",
       "      <td>None</td>\n",
       "      <td>[Economics]</td>\n",
       "      <td>[Business &amp; Economics]</td>\n",
       "    </tr>\n",
       "  </tbody>\n",
       "</table>\n",
       "</div>"
      ],
      "text/plain": [
       "   doctype                                           keywords   language  \\\n",
       "0  Article  [inflation, inflation targeting, price stabili...  [English]   \n",
       "1  Article  [financial crisis, interest rate, budget defic...  [English]   \n",
       "\n",
       "                                           name_info publish_date  pubtype  \\\n",
       "0  {'Eroglu Ilhan': {'daisng_id': '11528418', 'ro...   2017-06-28  Journal   \n",
       "1  {'Temur Yusuf': {'daisng_id': '20997302', 'rol...   2017-01-01  Journal   \n",
       "\n",
       "                                     source  \\\n",
       "0  ECONOMIC RESEARCH-EKONOMSKA ISTRAZIVANJA   \n",
       "1  ECONOMIC RESEARCH-EKONOMSKA ISTRAZIVANJA   \n",
       "\n",
       "                                               title      FullName  \\\n",
       "0  An evaluation of the effectiveness of an infla...  Eroglu Ilhan   \n",
       "1  Identifying relationship between macroeconomic...  Eroglu Ilhan   \n",
       "\n",
       "                   uid            heading subheading traditional_sub  \\\n",
       "0  WOS:000414188100001  [Social Sciences]       None     [Economics]   \n",
       "1  WOS:000400797200001  [Social Sciences]       None     [Economics]   \n",
       "\n",
       "             extended_sub  \n",
       "0  [Business & Economics]  \n",
       "1  [Business & Economics]  "
      ]
     },
     "execution_count": 13,
     "metadata": {},
     "output_type": "execute_result"
    }
   ],
   "source": [
    "# Process data_not_dismiss to make it in same format as data_dismiss\n",
    "data_not_dismiss['heading'] = data_not_dismiss['category_info'].map(lambda x: x['headings'])\n",
    "data_not_dismiss['subheading'] = data_not_dismiss['category_info'].map(lambda x: x['subheadings'])\n",
    "data_not_dismiss['traditional_sub'] = data_not_dismiss['category_info'].map(lambda x: x['traditional_subjects'])\n",
    "data_not_dismiss['extended_sub'] = data_not_dismiss['category_info'].map(lambda x: x['extended_subjects'])\n",
    "data_not_dismiss['keywords'] = data_not_dismiss['keywords'].map(lambda x: np.nan if len(x)==0 else x)\n",
    "\n",
    "# Change format of key of name_info\n",
    "for i in range(data_not_dismiss.shape[0]):\n",
    "    keys = list(data_not_dismiss.name_info[i].keys())\n",
    "    keys_change = list(map(lambda x: x.replace(',', ''), keys))\n",
    "    for j in range(len(keys_change)):\n",
    "        data_not_dismiss.name_info[i].update({keys_change[j]:data_not_dismiss.name_info[i].pop(keys[j])})\n",
    "        \n",
    "# Turn keywords features into lower case.\n",
    "keyword_dup_bypaper = []\n",
    "for keywords_list in data_not_dismiss.keywords.values:\n",
    "    if str(keywords_list)!='nan':\n",
    "        keyword_dup_bypaper.append([x.lower() for x in keywords_list])\n",
    "    else:\n",
    "        keyword_dup_bypaper.append(keywords_list)\n",
    "data_not_dismiss['keywords'] = keyword_dup_bypaper\n",
    "data_not_dismiss = data_not_dismiss[['doctype', 'keywords', 'language',\n",
    "                                     'name_info', 'publish_date', 'pubtype',\n",
    "                                     'source', 'title', 'FullName', \n",
    "                                     'uid', 'heading', 'subheading',\n",
    "                                     'traditional_sub', 'extended_sub']]\n",
    "data_not_dismiss_origin = data_not_dismiss.copy()\n",
    "data_not_dismiss.head(2)"
   ]
  },
  {
   "cell_type": "markdown",
   "metadata": {},
   "source": [
    "**Secondly**, since the undismissed data is scraped according to the names of coauthors of dismissed authors, it may contain lots of coauthors who do not even come from Turkey. We do pre-processes as below:\n",
    "- If one paper has an author who has `country` attribute and its value is **Turkey**, we regard it as one paper of undismissed authors.\n",
    "- The paper data scraped from [Web of Science](http://apps.webofknowledge.com/WOS_GeneralSearch_input.do?product=WOS&search_mode=GeneralSearch&SID=F41mtBBV1mNZKmygFN7&preferencesSaved=) of one undismissed author may be the same as another dissmissed author (e.g. one dissmissed author and another undismissed author are coauthers and both of them only have 1 same paper in [Web of Science](http://apps.webofknowledge.com/WOS_GeneralSearch_input.do?product=WOS&search_mode=GeneralSearch&SID=F41mtBBV1mNZKmygFN7&preferencesSaved=)). In order to avoid that undismissed data have same items as dismissed data, we only select undismissed authers having **more than 5 papers**.\n",
    "- Then we wrap each author name and all his matched papers(`pandas.DataFrame`) as one key-value pair of dictionary, such as `{Author: Paper_DataFrame}` as before."
   ]
  },
  {
   "cell_type": "code",
   "execution_count": 14,
   "metadata": {},
   "outputs": [],
   "source": [
    "# Select author in not dismissed list who is from Turkey\n",
    "for i in range(data_not_dismiss.shape[0]):\n",
    "    try:\n",
    "        fullname = data_not_dismiss['FullName'][i]\n",
    "        name_info = data_not_dismiss['name_info'][i][fullname]\n",
    "        if name_info['address']['country'] != 'Turkey':\n",
    "            data_not_dismiss['name_info'][i] = np.nan\n",
    "    except:\n",
    "        data_not_dismiss['name_info'][i] = np.nan\n",
    "data_not_dismiss.dropna(subset=['name_info'], inplace=True)"
   ]
  },
  {
   "cell_type": "code",
   "execution_count": 15,
   "metadata": {
    "scrolled": false
   },
   "outputs": [
    {
     "data": {
      "text/html": [
       "<div>\n",
       "<style scoped>\n",
       "    .dataframe tbody tr th:only-of-type {\n",
       "        vertical-align: middle;\n",
       "    }\n",
       "\n",
       "    .dataframe tbody tr th {\n",
       "        vertical-align: top;\n",
       "    }\n",
       "\n",
       "    .dataframe thead th {\n",
       "        text-align: right;\n",
       "    }\n",
       "</style>\n",
       "<table border=\"1\" class=\"dataframe\">\n",
       "  <thead>\n",
       "    <tr style=\"text-align: right;\">\n",
       "      <th></th>\n",
       "      <th>doctype</th>\n",
       "      <th>keywords</th>\n",
       "      <th>language</th>\n",
       "      <th>name_info</th>\n",
       "      <th>publish_date</th>\n",
       "      <th>pubtype</th>\n",
       "      <th>source</th>\n",
       "      <th>title</th>\n",
       "      <th>FullName</th>\n",
       "      <th>uid</th>\n",
       "      <th>heading</th>\n",
       "      <th>subheading</th>\n",
       "      <th>traditional_sub</th>\n",
       "      <th>extended_sub</th>\n",
       "    </tr>\n",
       "  </thead>\n",
       "  <tbody>\n",
       "    <tr>\n",
       "      <th>5</th>\n",
       "      <td>Meeting Abstract</td>\n",
       "      <td>[bronchoscopy, lung cancer / oncology, thoraci...</td>\n",
       "      <td>[English]</td>\n",
       "      <td>{'Ozturk Ozge': {'daisng_id': None, 'role': 'a...</td>\n",
       "      <td>2015-09-01</td>\n",
       "      <td>Journal</td>\n",
       "      <td>EUROPEAN RESPIRATORY JOURNAL</td>\n",
       "      <td>Diagnostic value of conventional transbronchia...</td>\n",
       "      <td>Koksal Deniz</td>\n",
       "      <td>WOS:000451979404161</td>\n",
       "      <td>[Science &amp; Technology]</td>\n",
       "      <td>[Life Sciences &amp; Biomedicine]</td>\n",
       "      <td>[Respiratory System]</td>\n",
       "      <td>[Respiratory System]</td>\n",
       "    </tr>\n",
       "    <tr>\n",
       "      <th>6</th>\n",
       "      <td>Correction</td>\n",
       "      <td>NaN</td>\n",
       "      <td>[English]</td>\n",
       "      <td>{'Abbas Sherif': {'daisng_id': '6248113', 'rol...</td>\n",
       "      <td>2018-10-01</td>\n",
       "      <td>Journal</td>\n",
       "      <td>JOURNAL OF BIOMEDICAL OPTICS</td>\n",
       "      <td>Diagnosis of malignant pleural mesothelioma fr...</td>\n",
       "      <td>Koksal Deniz</td>\n",
       "      <td>WOS:000449335800026</td>\n",
       "      <td>[Science &amp; Technology]</td>\n",
       "      <td>[Life Sciences &amp; Biomedicine, Physical Sciences]</td>\n",
       "      <td>[Biochemical Research Methods, Optics, Radiolo...</td>\n",
       "      <td>[Biochemistry &amp; Molecular Biology, Optics, Rad...</td>\n",
       "    </tr>\n",
       "  </tbody>\n",
       "</table>\n",
       "</div>"
      ],
      "text/plain": [
       "            doctype                                           keywords  \\\n",
       "5  Meeting Abstract  [bronchoscopy, lung cancer / oncology, thoraci...   \n",
       "6        Correction                                                NaN   \n",
       "\n",
       "    language                                          name_info publish_date  \\\n",
       "5  [English]  {'Ozturk Ozge': {'daisng_id': None, 'role': 'a...   2015-09-01   \n",
       "6  [English]  {'Abbas Sherif': {'daisng_id': '6248113', 'rol...   2018-10-01   \n",
       "\n",
       "   pubtype                        source  \\\n",
       "5  Journal  EUROPEAN RESPIRATORY JOURNAL   \n",
       "6  Journal  JOURNAL OF BIOMEDICAL OPTICS   \n",
       "\n",
       "                                               title      FullName  \\\n",
       "5  Diagnostic value of conventional transbronchia...  Koksal Deniz   \n",
       "6  Diagnosis of malignant pleural mesothelioma fr...  Koksal Deniz   \n",
       "\n",
       "                   uid                 heading  \\\n",
       "5  WOS:000451979404161  [Science & Technology]   \n",
       "6  WOS:000449335800026  [Science & Technology]   \n",
       "\n",
       "                                         subheading  \\\n",
       "5                     [Life Sciences & Biomedicine]   \n",
       "6  [Life Sciences & Biomedicine, Physical Sciences]   \n",
       "\n",
       "                                     traditional_sub  \\\n",
       "5                               [Respiratory System]   \n",
       "6  [Biochemical Research Methods, Optics, Radiolo...   \n",
       "\n",
       "                                        extended_sub  \n",
       "5                               [Respiratory System]  \n",
       "6  [Biochemistry & Molecular Biology, Optics, Rad...  "
      ]
     },
     "execution_count": 15,
     "metadata": {},
     "output_type": "execute_result"
    }
   ],
   "source": [
    "# Put author data in to a dict and use his name as key\n",
    "not_dis_author_dict = {}\n",
    "for author in data_not_dismiss.FullName.unique():\n",
    "    author_df = data_not_dismiss[data_not_dismiss['FullName'] == author]\n",
    "    # Only select those have more than 5 papers\n",
    "    if author_df.shape[0]>5:\n",
    "        not_dis_author_dict.update({author: {'BasicData':author_df}})\n",
    "auth_aff_df.loc[auth_aff_df.Author=='TAKTAK SUKRU']\n",
    "not_dis_author_dict['Koksal Deniz']['BasicData'].head(2)"
   ]
  },
  {
   "cell_type": "code",
   "execution_count": 16,
   "metadata": {
    "scrolled": false
   },
   "outputs": [
    {
     "name": "stdout",
     "output_type": "stream",
     "text": [
      "Final undismissed Author number: 2347\n"
     ]
    }
   ],
   "source": [
    "print('Final undismissed Author number:', len(not_dis_author_dict.keys()))"
   ]
  },
  {
   "cell_type": "code",
   "execution_count": 17,
   "metadata": {},
   "outputs": [],
   "source": [
    "# Save the dictionary\n",
    "# with open('./data/author_explict_dict.pickle', 'wb') as handle:\n",
    "#     pickle.dump(author_explict_dict, handle, protocol=pickle.HIGHEST_PROTOCOL)\n",
    "\n",
    "# with open('./data/not_dis_author_dict.pickle', 'wb') as handle:\n",
    "#     pickle.dump(not_dis_author_dict, handle, protocol=pickle.HIGHEST_PROTOCOL)"
   ]
  },
  {
   "cell_type": "code",
   "execution_count": 18,
   "metadata": {},
   "outputs": [],
   "source": [
    "# Load data of undismissed authors for FastTest, which has been pre-processed\n",
    "# Those two datasets are generated by Undis_List_Generation_for_FastText.ipynb\n",
    "not_dis_author_dict_fasttext = pd.read_csv('./data/no_dis_auth_vec_2.csv')\n",
    "total_no_dis_pub = pd.read_csv('./Data/total_no_dis_pub_2.csv')"
   ]
  },
  {
   "cell_type": "markdown",
   "metadata": {},
   "source": [
    "## 2.  Feature Extraction\n",
    "We only use `keywords` in data as features to represent a paper. However, the `keywords` of papers are words and we use methods to find numerical representations for words as below:\n",
    "\n",
    "1. Word2vec;\n",
    "2. Bag-of-words;\n",
    "3. Fasttext.\n",
    "\n",
    "The following is the data obtained after feature selection, load it to skip data feature extraction (very time-consuming) and get results directly."
   ]
  },
  {
   "cell_type": "code",
   "execution_count": null,
   "metadata": {},
   "outputs": [],
   "source": [
    "# Features extraction by Word2vec\n",
    "with open('./data/X_keyword_vector.pickle', 'rb') as handle:\n",
    "    X_keyword_vector = pickle.load(handle)\n",
    "with open('./data/y_keyword_vector.pickle', 'rb') as handle:\n",
    "    y_keyword_vector = pickle.load(handle)\n",
    "    \n",
    "# Features extraction by Bag-of-words\n",
    "with open('./data/X_bag_of_words.pickle', 'rb') as handle:\n",
    "    X_bag_of_words = pickle.load(handle)\n",
    "with open('./data/y_bag_of_words.pickle', 'rb') as handle:\n",
    "    y_bag_of_words = pickle.load(handle)\n",
    "    \n",
    "# Features extraction by fasttext\n",
    "with open('./data/X_set1_fasttext.pickle', 'rb') as handle:\n",
    "    X_set1_fasttext = pickle.load(handle)\n",
    "with open('./data/y_set1_fasttext.pickle', 'rb') as handle:\n",
    "    y_set1_fasttext = pickle.load(handle)\n",
    "with open('./data/X_set2_fasttext.pickle', 'rb') as handle:\n",
    "    X_set2_fasttext = pickle.load(handle)\n",
    "with open('./data/y_set2_fasttext.pickle', 'rb') as handle:\n",
    "    y_set2_fasttext = pickle.load(handle)"
   ]
  },
  {
   "cell_type": "markdown",
   "metadata": {},
   "source": [
    "### 2.1 Word2vec\n",
    ">[Word2vec](https://en.wikipedia.org/wiki/Word2vec) is a group of related models that are used to produce word embeddings. It takes as its input a large **corpus of text** and produces a vector space, with each unique word in the corpus being assigned a corresponding vector. Word vectors are positioned in the vector space such that words that share common contexts in the corpus are located in close proximity to one another in the space.\n",
    "\n",
    "We create **Word2vec** model as below:\n",
    "\n",
    "**First**:\n",
    "- We construct **corpus of text** by combining all the `keywords` of undismissed authors and dismissed authors. Then, train the model and embed `keywords` to 32 dimensions space. "
   ]
  },
  {
   "cell_type": "code",
   "execution_count": 19,
   "metadata": {},
   "outputs": [],
   "source": [
    "# Combine all keywords in data_dismiss and data_not_dismiss\n",
    "def get_keyword_list(dataframe):\n",
    "    keyword_list = []\n",
    "    for i in range(dataframe.shape[0]):\n",
    "        key_words = dataframe['keywords'].iloc[i]\n",
    "        if str(key_words) != 'nan' and key_words != None:\n",
    "            keyword_list.append(key_words)\n",
    "    return keyword_list\n",
    "\n",
    "# Load data of undismissed authors\n",
    "keyword_bypaper_dis = get_keyword_list(data_dismiss)\n",
    "keyword_bypaper_undis = get_keyword_list(data_not_dismiss_origin)\n",
    "    \n",
    "keyword_bypaper = keyword_bypaper_dis.copy()\n",
    "keyword_bypaper.extend(keyword_bypaper_undis)\n",
    "\n",
    "# Train word2vec model\n",
    "model = gensim.models.Word2Vec(keyword_bypaper, min_count=1, size=32)\n",
    "model.save(\"./data/word2vec.model\")\n",
    "# model = gensim.models.Word2Vec.load(\"./data/word2vec.model\")"
   ]
  },
  {
   "cell_type": "markdown",
   "metadata": {},
   "source": [
    "A simple way to investigate the learned representations is to find the closest words for a specified word. To test the performance of our model, we show an example of a given word 'parkinson disease':"
   ]
  },
  {
   "cell_type": "code",
   "execution_count": 20,
   "metadata": {
    "scrolled": true
   },
   "outputs": [
    {
     "data": {
      "text/plain": [
       "[('resting-state', 0.9944981336593628),\n",
       " ('resting-state fmri', 0.9944922924041748),\n",
       " ('epileptic seizures', 0.9943488836288452),\n",
       " ('electrical stimulation', 0.9942954778671265),\n",
       " ('prepulse inhibition', 0.9940583109855652),\n",
       " ('medial prefrontal cortex', 0.9935349225997925),\n",
       " ('brain imaging', 0.9935184121131897),\n",
       " ('motor coordination', 0.9932699799537659),\n",
       " ('primary motor cortex', 0.9930866360664368),\n",
       " ('deep brain-stimulation', 0.9925353527069092)]"
      ]
     },
     "execution_count": 20,
     "metadata": {},
     "output_type": "execute_result"
    }
   ],
   "source": [
    "model.similar_by_word('parkinson disease')"
   ]
  },
  {
   "cell_type": "markdown",
   "metadata": {},
   "source": [
    "And the close words are highly related to parkinson disease(e.g. brain imaging is widely used in PD diagnosis) so the model is good."
   ]
  },
  {
   "cell_type": "code",
   "execution_count": 21,
   "metadata": {
    "scrolled": true
   },
   "outputs": [
    {
     "data": {
      "text/plain": [
       "0.9935185216443656"
      ]
     },
     "execution_count": 21,
     "metadata": {},
     "output_type": "execute_result"
    }
   ],
   "source": [
    "model.similarity('parkinson disease','brain imaging')"
   ]
  },
  {
   "cell_type": "markdown",
   "metadata": {},
   "source": [
    "**Secondly**:\n",
    "- We take **average of all word vectors** of one paper and regard this average word vector as keyword vector feature of the paper. \n",
    "- If one author have more than one paper data, we take **average of word vectors** (calculated above) of all papers and regard this average word vector as **keyword vector feature** of the author.\n",
    "- Then we wrap each author name and his **keyword vector feature** as one key-value pair of dictionary, such as `{Author: KeywordVector}`."
   ]
  },
  {
   "cell_type": "code",
   "execution_count": 22,
   "metadata": {
    "scrolled": true
   },
   "outputs": [],
   "source": [
    "def generate_keyword_vector(author_explict_dict):\n",
    "    '''\n",
    "    Generate keyword_vector of one auther.\n",
    "    \n",
    "    Input:\n",
    "        author_explict_dict: dictionary - Dictionary of dismissed data of undismissed data.\n",
    "        \n",
    "    Return:\n",
    "        Return an new dictionary containing new keyword vector feature of each author.\n",
    "    '''\n",
    "    keyword_vector = []\n",
    "    for key in author_explict_dict.keys():\n",
    "        key_words_all = []\n",
    "        key_words = author_explict_dict[key]['BasicData']['keywords'].values.tolist()\n",
    "        # Put all key words in a list if the key words is not nan\n",
    "        for x in key_words:\n",
    "            if str(x) != 'nan' and x != None:\n",
    "                key_words_all.extend(x)\n",
    "        # Have key words other than nan, take the mean of them\n",
    "        if len(key_words_all) > 0:\n",
    "            keyword_vector = np.mean(model.wv[key_words_all], axis=0)\n",
    "        else:\n",
    "            keyword_vector = np.nan\n",
    "        author_explict_dict[key].update({'KeywordVector':keyword_vector})\n",
    "    return author_explict_dict"
   ]
  },
  {
   "cell_type": "code",
   "execution_count": 23,
   "metadata": {},
   "outputs": [],
   "source": [
    "author_explict_dict = generate_keyword_vector(author_explict_dict)\n",
    "not_dis_author_dict = generate_keyword_vector(not_dis_author_dict)"
   ]
  },
  {
   "cell_type": "markdown",
   "metadata": {},
   "source": [
    "**Then**:\n",
    "- Some papers do not have keyword info, and some authors only contain those papers without keyword info, which makes the **keyword vector feature** nan (not exist). We only select authors who have **keyword vector feature**. \n",
    "- Give **labels** to feature: 1, keyword vector feature of dismissed author; 0, keyword vector feature of undismissed author. Then, merge them to a new list."
   ]
  },
  {
   "cell_type": "code",
   "execution_count": 24,
   "metadata": {},
   "outputs": [],
   "source": [
    "def get_notnan_vector(data_dict, label):\n",
    "    '''\n",
    "    Get keyword_vector of one auther which is not nan (some papers of author do not have keyword info).\n",
    "    \n",
    "    Input:\n",
    "        data_dict: dictionary - Dictionary of dismissed data of undismissed data.\n",
    "        label: int - The label to distinguish dismissed and undismissed author.\n",
    "        \n",
    "    Return:\n",
    "        X, Y: list - Data of authors who have keyword vector feature.\n",
    "    '''\n",
    "    X = []\n",
    "    Y = []\n",
    "    for i in data_dict.keys():\n",
    "        if str(data_dict[i]['KeywordVector']) != 'nan':\n",
    "            X.append(data_dict[i]['KeywordVector'])\n",
    "            Y.append(label)\n",
    "    return  X, Y"
   ]
  },
  {
   "cell_type": "code",
   "execution_count": 25,
   "metadata": {},
   "outputs": [
    {
     "name": "stdout",
     "output_type": "stream",
     "text": [
      "Get keyword vector feature 'X_keyword_vector' and its corresponding label 'y_keyword_vector'.\n"
     ]
    }
   ],
   "source": [
    "# Give keyword vector feature:\n",
    "X_dismiss, Y_dismiss = get_notnan_vector(author_explict_dict, 1)\n",
    "X_undismiss, Y_undismiss = get_notnan_vector(not_dis_author_dict, 0)\n",
    "# Merge dismissed and undismissed word vectors\n",
    "X_keyword_vector = X_dismiss.copy()\n",
    "X_keyword_vector.extend(X_undismiss)\n",
    "y_keyword_vector = Y_dismiss.copy()\n",
    "y_keyword_vector.extend(Y_undismiss)\n",
    "# Save the data\n",
    "# with open('./data/X_keyword_vector.pickle', 'wb') as handle:\n",
    "#     pickle.dump(X_keyword_vector, handle, protocol=pickle.HIGHEST_PROTOCOL)\n",
    "# with open('./data/y_keyword_vector.pickle', 'wb') as handle:\n",
    "#     pickle.dump(y_keyword_vector, handle, protocol=pickle.HIGHEST_PROTOCOL)\n",
    "print('Get keyword vector feature \\'X_keyword_vector\\' and its corresponding label \\'y_keyword_vector\\'.')"
   ]
  },
  {
   "cell_type": "code",
   "execution_count": 26,
   "metadata": {},
   "outputs": [
    {
     "data": {
      "text/plain": [
       "(4329, 32)"
      ]
     },
     "execution_count": 26,
     "metadata": {},
     "output_type": "execute_result"
    }
   ],
   "source": [
    "# Display the size of the feature\n",
    "np.array(X_keyword_vector).shape"
   ]
  },
  {
   "cell_type": "markdown",
   "metadata": {},
   "source": [
    "### 2.2 Bag-of-words\n",
    "\n",
    ">The [bag-of-words](https://en.wikipedia.org/wiki/Bag-of-words_model) model is a simplifying representation used in natural language processing. In this model, a text is represented as the bag (multiset) of its words, disregarding grammar and even word order but keeping multiplicity, and the (frequency of) occurrence of each word is used as a feature.\n",
    "\n",
    "We create **bag-of-words** model as below:\n",
    "\n",
    "- We construct **corpus of text** by combining all the `keywords` of undismissed authors and dismissed authors. Then, Create Bag-of-words model using `vectorizer` function of sklearn package.\n",
    "- The final keywords feature obtained by bag-of-words model is a sparse matrix whose each row represents keywords feature of one paper and each column represents per distinct key word."
   ]
  },
  {
   "cell_type": "code",
   "execution_count": 27,
   "metadata": {},
   "outputs": [],
   "source": [
    "# put all features in data_dismiss and data_not_dismiss to train Word2Vec model\n",
    "def get_keyword_list_author(data_dict):\n",
    "    keyword_list = []\n",
    "    for key in data_dict.keys():\n",
    "        key_words_all = []\n",
    "        key_words = data_dict[key]['BasicData']['keywords'].values.tolist()\n",
    "        # Put all key words in a list if the key words is not nan\n",
    "        for x in key_words:\n",
    "            if str(x) != 'nan' and x != None:\n",
    "                key_words_all.extend(x)\n",
    "        keyword_list.append(key_words_all)\n",
    "    return keyword_list\n",
    "\n",
    "# put all features in data_dismiss and data_not_dismiss to train Word2Vec model\n",
    "keyword_bypaper_dis = get_keyword_list_author(author_explict_dict)\n",
    "keyword_bypaper_undis = get_keyword_list_author(not_dis_author_dict)\n",
    "    \n",
    "keyword_bypaper = keyword_bypaper_dis.copy()\n",
    "keyword_bypaper.extend(keyword_bypaper_undis)"
   ]
  },
  {
   "cell_type": "code",
   "execution_count": 28,
   "metadata": {},
   "outputs": [],
   "source": [
    "def get_bag_of_word(doc_list):\n",
    "    docs = []\n",
    "    for doc in doc_list:\n",
    "        doc = \" \".join(doc)\n",
    "        docs.append(doc)\n",
    "    # Create bag of words features\n",
    "    vectorizer = CountVectorizer()\n",
    "    X = vectorizer.fit_transform(docs)\n",
    "    # TF-idf\n",
    "    transformer = TfidfTransformer(smooth_idf=False)\n",
    "    X = transformer.fit_transform(X)\n",
    "    return X"
   ]
  },
  {
   "cell_type": "code",
   "execution_count": 29,
   "metadata": {
    "scrolled": false
   },
   "outputs": [
    {
     "name": "stdout",
     "output_type": "stream",
     "text": [
      "Get keyword vector feature 'X_bag_of_words' and its corresponding label 'y_bag_of_words'.\n"
     ]
    }
   ],
   "source": [
    "X_bag_of_words = get_bag_of_word(keyword_bypaper)\n",
    "y_dis_bag_of_words = np.ones(len(keyword_bypaper_dis))\n",
    "y_undis_bag_of_words = np.zeros(len(keyword_bypaper_undis))\n",
    "y_bag_of_words = np.concatenate((y_dis_bag_of_words, y_undis_bag_of_words), axis=0)\n",
    "# Save the data\n",
    "# with open('./data/X_bag_of_words.pickle', 'wb') as handle:\n",
    "#     pickle.dump(X_bag_of_words, handle, protocol=pickle.HIGHEST_PROTOCOL)\n",
    "# with open('./data/y_bag_of_words.pickle', 'wb') as handle:\n",
    "#     pickle.dump(y_bag_of_words, handle, protocol=pickle.HIGHEST_PROTOCOL)\n",
    "print('Get keyword vector feature \\'X_bag_of_words\\' and its corresponding label \\'y_bag_of_words\\'.')"
   ]
  },
  {
   "cell_type": "code",
   "execution_count": 30,
   "metadata": {},
   "outputs": [
    {
     "data": {
      "text/plain": [
       "(4351, 44501)"
      ]
     },
     "execution_count": 30,
     "metadata": {},
     "output_type": "execute_result"
    }
   ],
   "source": [
    "# Display the size of the feature\n",
    "X_bag_of_words.shape"
   ]
  },
  {
   "cell_type": "markdown",
   "metadata": {},
   "source": [
    "### 2.3 FastText\n",
    "\n",
    ">[FastText](https://fasttext.cc) is a library for learning of word embeddings and text classification. The model allows to create an unsupervised learning or supervised learning algorithm for obtaining vector representations for words.\n",
    "\n",
    "We create **FastText** model as below:"
   ]
  },
  {
   "cell_type": "code",
   "execution_count": 31,
   "metadata": {},
   "outputs": [],
   "source": [
    "def load_vectors(fname):\n",
    "    fin = io.open(fname, 'r', encoding='utf-8', newline='\\n', errors='ignore')\n",
    "    n, d = map(int, fin.readline().split())\n",
    "    data = {}\n",
    "    for line in fin:\n",
    "        tokens = line.rstrip().split(' ')\n",
    "        data[tokens[0]] = map(float, tokens[1:])\n",
    "    return data\n",
    "ft_model = load_vectors('./Data/wiki-news-300d-1M-subword.vec')"
   ]
  },
  {
   "cell_type": "code",
   "execution_count": 32,
   "metadata": {},
   "outputs": [],
   "source": [
    "# mydict saves keywords that appeared once, and then we look up words that appear again in it instead of in the ft_model\n",
    "mydict = {}\n",
    "# map objects are displayed as vectors\n",
    "def map2vec(mydict,mapobj):\n",
    "    if mapobj in mydict:\n",
    "        return mydict,mydict[mapobj]\n",
    "    else:\n",
    "        mydict[mapobj] = list(mapobj)\n",
    "        return mydict,mydict[mapobj]\n",
    "\n",
    "# keywords correspond to map objects according to ft_model\n",
    "def keyword2map(model,wordlist):\n",
    "    wdlt_split = []\n",
    "    maps = [] \n",
    "    for w in wordlist:\n",
    "        wdlt_split += w.split()\n",
    "    for w in wdlt_split:\n",
    "        if w in model: \n",
    "            maps.append(model[w])\n",
    "        elif w.lower() in model:\n",
    "            maps.append(model[w.lower()])\n",
    "        elif w.capitalize() in model:\n",
    "            maps.append(model[w.capitalize()])            \n",
    "        else:\n",
    "            for sub_w in w.split('-'):\n",
    "                if sub_w in model:\n",
    "                    maps.append(model[sub_w])\n",
    "                elif sub_w.lower() in model:\n",
    "                    maps.append(model[sub_w.lower()])\n",
    "                elif sub_w.capitalize() in model:\n",
    "                    maps.append(model[sub_w.capitalize()])\n",
    "                else:\n",
    "                    pass\n",
    "                    maps.append(model[\"unknown\"])              \n",
    "    return maps"
   ]
  },
  {
   "cell_type": "code",
   "execution_count": 33,
   "metadata": {},
   "outputs": [],
   "source": [
    "# Generate keyword_vector of one other\n",
    "def generate_keyword_vector(author_explict_dict):\n",
    "    #mydict saves keywords that appeared once, and then we look up words that appear again in it instead of in the ft_model\n",
    "    mydict = {}\n",
    "    keyword_vector = []\n",
    "    j = 0\n",
    "    for key in author_explict_dict.keys():\n",
    "        j = j + 1\n",
    "        key_words_all = []\n",
    "        key_words = author_explict_dict[key]['BasicData']['keywords'].values.tolist()\n",
    "        # Put all key words in a list if the key words is not nan\n",
    "        for x in key_words:\n",
    "            if str(x) != 'nan' and x != None:\n",
    "                key_words_all.extend(x)\n",
    "        # Have key words other than nan, take the mean of them\n",
    "        if len(key_words_all) > 0:\n",
    "            wordlist = key_words_all\n",
    "            maps = keyword2map(ft_model,wordlist)\n",
    "            vectors = []\n",
    "            for m in maps:\n",
    "                [mydict, new_vec] = map2vec(mydict,m)\n",
    "                vectors.append(new_vec)    \n",
    "            keyword_vector = np.mean(np.array(vectors),axis=0)\n",
    "        else:\n",
    "            keyword_vector = np.nan\n",
    "        author_explict_dict[key].update({'KeywordVector':keyword_vector})\n",
    "    return author_explict_dict"
   ]
  },
  {
   "cell_type": "code",
   "execution_count": 34,
   "metadata": {},
   "outputs": [],
   "source": [
    "def paper_kw2vec(paper_df,mydict):\n",
    "    paper_vec_df = pd.DataFrame(columns=['Title','Disp_name','Aff','Sub','seq_no','daisng_id','publish_date','keywords'])\n",
    "    tmp_mydict = mydict\n",
    "    for i in range(len(paper_df)):\n",
    "        if i%100 == 0:\n",
    "            print(i)\n",
    "        Title = paper_df.iloc[i].Title\n",
    "        Disp_name = paper_df.iloc[i].Disp_name\n",
    "        seq_no = paper_df.iloc[i].seq_no\n",
    "        daisng_id = paper_df.iloc[i].daisng_id\n",
    "        Aff = paper_df.iloc[i].Aff\n",
    "        keywords = paper_df.iloc[i].keywords\n",
    "        Sub = paper_df.iloc[i].Sub\n",
    "        pudate = paper_df.iloc[i].publish_date\n",
    "        test = pd.DataFrame({'Title':[Title],'Disp_name':[Disp_name],'Aff':[Aff],'Sub':[Sub],\\\n",
    "                             'seq_no':seq_no,'daisng_id':daisng_id,'publish_date': pudate,'keywords': keywords})\n",
    "\n",
    "        wordlist_str = paper_df.iloc[i].keywords\n",
    "        newstr = wordlist_str.replace(\"[\", \"\")\n",
    "        newstr = newstr.replace(\"]\", \"\")\n",
    "        newstr = newstr.replace(\"'\", \"\")\n",
    "        newstr = newstr.replace(',','')\n",
    "        wordlist = newstr.split(' ')\n",
    "        vectors = []\n",
    "        maps = keyword2map(ft_model,wordlist)\n",
    "        for m in maps:\n",
    "            [tmp_mydict, new_vec] = map2vec(tmp_mydict,m)\n",
    "            vectors.append(new_vec)\n",
    "        keyword_vector = np.mean(np.array(vectors),axis=0)\n",
    "        avg_df = pd.DataFrame(keyword_vector, dtype='float64').T\n",
    "        test = pd.concat([test,avg_df],axis=1)\n",
    "        paper_vec_df = paper_vec_df.append(test)\n",
    "    paper_vec_df = paper_vec_df.reset_index(drop=True)\n",
    "    return tmp_mydict, paper_vec_df"
   ]
  },
  {
   "cell_type": "code",
   "execution_count": 35,
   "metadata": {},
   "outputs": [],
   "source": [
    "def paper_kw2vec(paper_df,mydict):\n",
    "    paper_vec_df = pd.DataFrame(columns=['Title','Disp_name','Aff','Sub','seq_no','daisng_id','publish_date','keywords'])\n",
    "    tmp_mydict = mydict\n",
    "    for i in range(len(paper_df)):\n",
    "        if i%100 == 0:\n",
    "            print(i)\n",
    "        Title = paper_df.iloc[i].Title\n",
    "        Disp_name = paper_df.iloc[i].Disp_name\n",
    "        seq_no = paper_df.iloc[i].seq_no\n",
    "        daisng_id = paper_df.iloc[i].daisng_id\n",
    "        Aff = paper_df.iloc[i].Aff\n",
    "        keywords = paper_df.iloc[i].keywords\n",
    "        Sub = paper_df.iloc[i].Sub\n",
    "        pudate = paper_df.iloc[i].publish_date\n",
    "        test = pd.DataFrame({'Title':[Title],'Disp_name':[Disp_name],'Aff':[Aff],'Sub':[Sub],\\\n",
    "                             'seq_no':seq_no,'daisng_id':daisng_id,'publish_date': pudate,'keywords': keywords})\n",
    "\n",
    "        wordlist_str = paper_df.iloc[i].keywords\n",
    "        newstr = wordlist_str.replace(\"[\", \"\")\n",
    "        newstr = newstr.replace(\"]\", \"\")\n",
    "        newstr = newstr.replace(\"'\", \"\")\n",
    "        newstr = newstr.replace(',','')\n",
    "        wordlist = newstr.split(' ')\n",
    "        vectors = []\n",
    "        maps = keyword2map(ft_model,wordlist)\n",
    "        for m in maps:\n",
    "            [tmp_mydict, new_vec] = map2vec(tmp_mydict,m)\n",
    "            vectors.append(new_vec)\n",
    "        keyword_vector = np.mean(np.array(vectors),axis=0)\n",
    "        avg_df = pd.DataFrame(keyword_vector, dtype='float64').T\n",
    "        test = pd.concat([test,avg_df],axis=1)\n",
    "        paper_vec_df = paper_vec_df.append(test)\n",
    "    paper_vec_df = paper_vec_df.reset_index(drop=True)\n",
    "    return tmp_mydict, paper_vec_df"
   ]
  },
  {
   "cell_type": "code",
   "execution_count": 36,
   "metadata": {},
   "outputs": [],
   "source": [
    "# author_explict_dict contains the list of dismissed researchers \n",
    "author_explict_dict_tmp = generate_keyword_vector(author_explict_dict)\n",
    "mydict = {}\n",
    "ft_model = load_vectors('./Data/wiki-news-300d-1M-subword.vec')\n",
    "\n",
    "# not_dis_author_dict contains the list of undismissed researchers to build Set 1\n",
    "not_dis_author_dict_tmp = generate_keyword_vector(not_dis_author_dict)"
   ]
  },
  {
   "cell_type": "code",
   "execution_count": 37,
   "metadata": {},
   "outputs": [],
   "source": [
    "ft_model = load_vectors('./Data/wiki-news-300d-1M-subword.vec')\n",
    "mydict = {}\n",
    "[mylist, no_dis_pub_vec] = paper_kw2vec(total_no_dis_pub,mydict)\n",
    "no_dis_auth_vectors = no_dis_pub_vec.groupby(by=['Disp_name','Aff']).agg(np.mean)"
   ]
  },
  {
   "cell_type": "code",
   "execution_count": 38,
   "metadata": {
    "scrolled": false
   },
   "outputs": [
    {
     "name": "stdout",
     "output_type": "stream",
     "text": [
      "Get keyword vector feature 'X_fasttext' and its corresponding label 'y_fasttext'.\n"
     ]
    }
   ],
   "source": [
    "# with open('./Data/author_explict_dict_tmp.pickle', 'rb') as handle:\n",
    "#     author_explict_dict_tmp = pickle.load(handle)\n",
    "not_dis_author_dict_nparray = np.asarray(not_dis_author_dict_fasttext.drop(['daisng_id'], axis = 1))\n",
    "not_dis_author_dict_tmp = not_dis_author_dict_nparray.tolist()\n",
    "X_dismiss, Y_dismiss = get_notnan_vector(author_explict_dict_tmp, 1)\n",
    "X_undismiss = not_dis_author_dict_tmp\n",
    "Y_undismiss = [0]*len(X_undismiss)\n",
    "X = X_dismiss.copy()\n",
    "X.extend(X_undismiss)\n",
    "y = Y_dismiss.copy()\n",
    "y.extend(Y_undismiss)\n",
    "X = np.asarray(X)\n",
    "X_set2_fasttext = X\n",
    "y_set2_fasttext = y\n",
    "\n",
    "# with open('./Data/not_dis_author_dict_tmp.pickle', 'rb') as handle:\n",
    "#     not_dis_author_dict_tmp_2 = pickle.load(handle)\n",
    "not_dis_author_dict_tmp_2 = not_dis_author_dict_tmp.copy()\n",
    "X_dismiss, Y_dismiss = get_notnan_vector(author_explict_dict_tmp, 1)\n",
    "X_undismiss_2, Y_undismiss_2 = get_notnan_vector(not_dis_author_dict_tmp_2, 0)\n",
    "X = X_dismiss.copy()\n",
    "y = Y_dismiss.copy()\n",
    "X.extend(X_undismiss_2)\n",
    "y.extend(Y_undismiss_2)\n",
    "X = np.asarray(X)\n",
    "X_set1_fasttext = X\n",
    "y_set1_fasttext = y\n",
    "X_set1_fasttext = X\n",
    "y_set1_fasttext = y\n",
    "# Save the data\n",
    "# with open('./Data/X_set1_fasttext.pickle', 'wb') as handle:\n",
    "#     pickle.dump(X_set1_fasttext, handle, protocol=pickle.HIGHEST_PROTOCOL)\n",
    "# with open('./Data/y_set1_fasttext.pickle', 'wb') as handle:\n",
    "#     pickle.dump(y_set1_fasttext, handle, protocol=pickle.HIGHEST_PROTOCOL)\n",
    "# with open('./Data/X_set2_fasttext.pickle', 'wb') as handle:\n",
    "#     pickle.dump(X_set2_fasttext, handle, protocol=pickle.HIGHEST_PROTOCOL)\n",
    "# with open('./Data/y_set2_fasttext.pickle', 'wb') as handle:\n",
    "#     pickle.dump(y_set2_fasttext, handle, protocol=pickle.HIGHEST_PROTOCOL)\n",
    "print('Get keyword vector feature \\'X_fasttext\\' and its corresponding label \\'y_fasttext\\'.')"
   ]
  },
  {
   "cell_type": "code",
   "execution_count": 39,
   "metadata": {},
   "outputs": [
    {
     "data": {
      "text/plain": [
       "(4329, 300)"
      ]
     },
     "execution_count": 39,
     "metadata": {},
     "output_type": "execute_result"
    }
   ],
   "source": [
    "# Display the size of the feature\n",
    "X_set1_fasttext.shape"
   ]
  },
  {
   "cell_type": "code",
   "execution_count": 40,
   "metadata": {},
   "outputs": [
    {
     "data": {
      "text/plain": [
       "(3865, 300)"
      ]
     },
     "execution_count": 40,
     "metadata": {},
     "output_type": "execute_result"
    }
   ],
   "source": [
    "# Display the size of the feature\n",
    "X_set2_fasttext.shape"
   ]
  },
  {
   "cell_type": "markdown",
   "metadata": {},
   "source": [
    "## 3.  Model Training\n",
    "We train a model to predict whether an author will be dismissed or not according to his `keywords` feature. Obviously, it's a **bi-classification problem**, we try different models as below:\n",
    "### 3.1 Logistic Regression\n",
    "- We apply Logistic Regression model to `keywords` feature got from **Word2vec** and **bag_of_word** respectively.\n",
    "- We tune the penalty parameter **C** and use 10-fold cross-validation to evaluate the performance of the model."
   ]
  },
  {
   "cell_type": "code",
   "execution_count": 41,
   "metadata": {},
   "outputs": [],
   "source": [
    "def bi_cv(X, y, grid, test_size=0.1):\n",
    "    '''\n",
    "    Get keyword_vector of one auther which is not nan (some papers of author do not have keyword info).\n",
    "    \n",
    "    Input:\n",
    "        X, Y: list - Data of authors who have keyword vector feature.\n",
    "        grid: list - List of penalty parameter C. \n",
    "        test_size: float - Proportion of test set.\n",
    "        \n",
    "    Return:\n",
    "        accs: list - Accurancy list of 10-fold cross-validation.\n",
    "    '''\n",
    "    accs = []\n",
    "    # shuffle the data\n",
    "    X, y = shuffle(X, y, random_state=42)\n",
    "    # split into training and test set\n",
    "    X_train, X_test, y_train, y_test = train_test_split(X, y, test_size=test_size, random_state=42)\n",
    "    for c in grid:\n",
    "        # Initialize the classifier\n",
    "        clf = LogisticRegression(random_state=42, solver='lbfgs', C = c)\n",
    "        # Crossvalidate\n",
    "        scores = cross_val_score(clf, X_train, y_train, cv=10)\n",
    "        accs.append(np.mean(scores))\n",
    "    return accs, X_train, X_test, y_train, y_test"
   ]
  },
  {
   "cell_type": "code",
   "execution_count": 42,
   "metadata": {},
   "outputs": [],
   "source": [
    "# Train model and tune parameter\n",
    "grid = [0.01, 0.1, 1, 10, 100, 1000, 10000, 100000]\n",
    "test_propotion = 0.1\n",
    "\n",
    "accs_word2vec, X_train_kv, X_test_kv, y_train_kv, y_test_kv = bi_cv(X_keyword_vector, y_keyword_vector, grid, test_propotion)\n",
    "accs_bag_of_words, X_train_bw, X_test_bw, y_train_bw, y_test_bw = bi_cv(X_bag_of_words, y_bag_of_words, grid, test_propotion)"
   ]
  },
  {
   "cell_type": "code",
   "execution_count": 43,
   "metadata": {},
   "outputs": [
    {
     "data": {
      "image/png": "[encoded data removed]",
      "text/plain": [
       "<Figure size 864x360 with 1 Axes>"
      ]
     },
     "metadata": {},
     "output_type": "display_data"
    },
    {
     "name": "stdout",
     "output_type": "stream",
     "text": [
      "Logistic Regression model for Word2vec feature: C = 10000 have the highest crossvalidation accuracy 0.628.\n",
      "Logistic Regression model for Bag-of-words feature: C = 1 have the highest crossvalidation accuracy 0.729.\n"
     ]
    }
   ],
   "source": [
    "# Plot the outcomes of cross-validation for Word2vec\n",
    "plt.figure(figsize=(12, 5))\n",
    "plt.plot(accs_word2vec, 'o-')\n",
    "plt.plot(accs_bag_of_words, 'o-')\n",
    "plt.xticks(range(len(grid)), grid)\n",
    "plt.xlabel('Regularization parameter \\n (Low - strong regularization, High - weak regularization)')\n",
    "plt.ylabel('Crossvalidation accuracy')\n",
    "plt.title('Parameter tuning of Logistic Regression model for Word2vec and Bag-of-words')\n",
    "plt.legend(['Word2vec', 'Bag-of-words'])\n",
    "plt.show()\n",
    "\n",
    "# print highest crossvalidation accuracy\n",
    "print('Logistic Regression model for Word2vec feature: C = {0} have the highest crossvalidation accuracy {1:.3f}.'.format(grid[np.argmax(accs_word2vec)], np.max(accs_word2vec)))\n",
    "print('Logistic Regression model for Bag-of-words feature: C = {0} have the highest crossvalidation accuracy {1:.3f}.'.format(grid[np.argmax(accs_bag_of_words)], np.max(accs_bag_of_words)))"
   ]
  },
  {
   "cell_type": "code",
   "execution_count": 44,
   "metadata": {
    "scrolled": true
   },
   "outputs": [
    {
     "name": "stdout",
     "output_type": "stream",
     "text": [
      "The test accurancy of chosen Logistic Regression model for Word2vec feature is 0.642.\n",
      "The test accurancy of chosen Logistic Regression model for Word2vec Bag-of-words feature is 0.709.\n"
     ]
    }
   ],
   "source": [
    "clf = LogisticRegression(random_state=42, solver='lbfgs', C = grid[np.argmax(accs_word2vec)]).fit(X_train_kv, y_train_kv)\n",
    "print('The test accurancy of chosen Logistic Regression model for Word2vec feature is {:.3f}.'.format(clf.score(X_test_kv, y_test_kv)))\n",
    "clf = LogisticRegression(random_state=42, solver='lbfgs', C = grid[np.argmax(accs_bag_of_words)]).fit(X_train_bw, y_train_bw)\n",
    "print('The test accurancy of chosen Logistic Regression model for Word2vec Bag-of-words feature is {:.3f}.'.format(clf.score(X_test_bw, y_test_bw)))"
   ]
  },
  {
   "cell_type": "markdown",
   "metadata": {},
   "source": [
    "### 3.2 Neural Network\n",
    "> [Neural Networks](https://en.wikipedia.org/wiki/Artificial_neural_network) (NN) are computing systems vaguely inspired by the biological neural networks that constitute animal brains. The neural network itself is not an algorithm, but rather a framework for many different machine learning algorithms to work together and process complex data inputs. Such systems \"learn\" to perform tasks by considering examples, generally without being programmed with any task-specific rules.\n",
    "\n",
    "Simple linear classification schemes like logistic regression above can sometimes work well but they have their limits. The key to improving such schemes is to well choose features from the original data vector. Neural Network allows us to learn the such features from the data.\n",
    "\n",
    "- Since, obviously, Bag-of-words features work much better than Word2vec features, here we **only consider Bag-of-words features**.\n",
    "- As mentioned in slide, neural Network has very strong representation power. Even relatively simple nets (with at most **two hidden layers**) are capable of approximating any continous function arbitrarily closely. So, here we use **two hidden layers**.\n",
    "- For output layer performing the actual ML task, since it's a **bi-classification problem**, we still use **logistic regression** model.\n",
    "- `Epochs` is used to separate training into distinct phases and useful for periodic evaluation, more epochs you have, your model will be more fit to training set. We tune Epochs and activation functions to select best model.\n",
    "- We try sequential neural network model with **dense layers**."
   ]
  },
  {
   "cell_type": "code",
   "execution_count": 45,
   "metadata": {},
   "outputs": [],
   "source": [
    "def NN_sequential_model(X, y, epochs, activation_function, test_size=0.1):\n",
    "    '''\n",
    "    Create sequential neural network model and tune activatio functions and epochs.\n",
    "    \n",
    "    Input:\n",
    "        X, Y: list - Data of authors who have keyword vector feature.\n",
    "        epochs: list - A list of epochs, which is used to separate training into distinct phases and useful for periodic evaluation.\n",
    "        activation_function: list - Name of activation functions. \n",
    "        test_size: float - Proportion of test set.\n",
    "        \n",
    "    Return:\n",
    "        score: float - Prediction accurancy score.\n",
    "    '''\n",
    "    # Split data\n",
    "    X_train, X_test, y_train, y_test = train_test_split(X, y, test_size=test_size, random_state=42)\n",
    "    # Construct sequential model\n",
    "    model = Sequential()\n",
    "    \n",
    "    # Two hidden layers\n",
    "    model.add(Dense(64, input_dim=X_train.shape[1], activation=activation_function))\n",
    "    # Dropout consists in randomly setting a fraction rate of input units to 0, which helps prevent overfitting.\n",
    "    model.add(Dropout(0.5))\n",
    "    model.add(Dense(64, activation=activation_function))\n",
    "    model.add(Dropout(0.5))\n",
    "    \n",
    "    # Output layer performs the actual ML task, we still use logistic regression model.\n",
    "    model.add(Dense(1, activation='sigmoid')) \n",
    "    model.compile(loss='binary_crossentropy', optimizer='rmsprop', metrics=['accuracy'])\n",
    "    \n",
    "    # Fit NN model and evaluate the accurancy\n",
    "    model.fit(X_train, y_train, epochs=epochs, batch_size=64, verbose=0)\n",
    "    _, score = model.evaluate(X_test, y_test, batch_size=64, verbose=0)\n",
    "    return score"
   ]
  },
  {
   "cell_type": "code",
   "execution_count": 46,
   "metadata": {},
   "outputs": [],
   "source": [
    "def plot_tune_DP(activation_function_list, epochs_list, score_dict):\n",
    "    '''\n",
    "        Visualization function for showing the processes of tuning parameter.\n",
    "    '''\n",
    "    plt.figure(figsize=(12, 5))\n",
    "    for activation_function in activation_function_list:\n",
    "        plt.plot(epochs_list, score_dict[activation_function], 'o-')\n",
    "    plt.legend(activation_function_list)\n",
    "    plt.title('Parameter tuning of neural networks model for Bag-of-words')\n",
    "    plt.xlabel('Epochs')\n",
    "    plt.ylabel('Test accurancy')\n",
    "    plt.plot()"
   ]
  },
  {
   "cell_type": "code",
   "execution_count": 47,
   "metadata": {},
   "outputs": [],
   "source": [
    "# List of parameters\n",
    "activation_function_list = ['sigmoid', 'tanh', 'relu', 'softmax', 'linear', 'elu']\n",
    "epochs_list = [10, 15, 20, 25, 30, 35]\n",
    "score_dict = {}\n",
    "# Tune parameters\n",
    "for activation_function in activation_function_list:\n",
    "    score_list = []\n",
    "    for epochs in epochs_list:\n",
    "        score_list.append(NN_sequential_model(X_bag_of_words, y_bag_of_words, epochs, activation_function))\n",
    "    score_dict.update({activation_function: score_list})"
   ]
  },
  {
   "cell_type": "code",
   "execution_count": 48,
   "metadata": {
    "scrolled": false
   },
   "outputs": [
    {
     "name": "stdout",
     "output_type": "stream",
     "text": [
      "Neural network model for Bag-of-words feature:\n",
      "epoch = 10 and activation_function = elu have the highest test accuracy 0.743.\n"
     ]
    },
    {
     "data": {
      "image/png": "[encoded data removed]",
      "text/plain": [
       "<Figure size 864x360 with 1 Axes>"
      ]
     },
     "metadata": {},
     "output_type": "display_data"
    }
   ],
   "source": [
    "# with open('./Data/score_dict.pickle', 'wb') as handle:\n",
    "#     pickle.dump(score_dict, handle, protocol=pickle.HIGHEST_PROTOCOL)\n",
    "# with open('./data/score_dict.pickle', 'rb') as handle:\n",
    "#     score_dict = pickle.load(handle)\n",
    "# activation_function_list = ['sigmoid', 'tanh', 'relu', 'softmax', 'linear', 'elu']\n",
    "# epochs_list = [10, 15, 20, 25, 30, 35]\n",
    "plot_tune_DP(activation_function_list, epochs_list, score_dict)\n",
    "max_row = int(np.argmax(np.array(list(score_dict.values()))) / 6)\n",
    "max_column = np.argmax(np.array(list(score_dict.values()))) % 6\n",
    "max_val = np.max(np.array(list(score_dict.values())))\n",
    "epoch_max = epochs_list[max_row]\n",
    "activation_function_max = activation_function_list[max_column]\n",
    "print('Neural network model for Bag-of-words feature:\\nepoch = {0} and activation_function = {1} have the highest test accuracy {2:.3f}.'.format(epoch_max, activation_function_max, max_val))"
   ]
  },
  {
   "cell_type": "markdown",
   "metadata": {},
   "source": [
    "### 3.3 PCA and Neural network\n",
    "> [Principal component analysis](https://en.wikipedia.org/wiki/Principal_component_analysis) (PCA) is a statistical procedure that uses an orthogonal transformation to convert a set of observations of possibly correlated variables (entities each of which takes on various numerical values) into a set of values of linearly uncorrelated variables called principal components. PCA is mostly used as a tool in exploratory data analysis and for making predictive models.\n",
    "\n",
    "- Principal component analysis is implemented before NN to reduce the order of features.\n",
    "- We try sequential neural network model with 4 hidden layers and one output layer.\n",
    "- We measure how the number of components kept and activation functions of hidden layer affect the performance."
   ]
  },
  {
   "cell_type": "code",
   "execution_count": 49,
   "metadata": {},
   "outputs": [],
   "source": [
    "# Load data\n",
    "X = X_set1_fasttext.copy()\n",
    "y = y_set1_fasttext.copy()\n",
    "\n",
    "# test accuracy\n",
    "te_accs = []\n",
    "total_te_accs = []\n",
    "# components for PCA\n",
    "comp = [1,5,10,30,50,100,150,200,300]\n",
    "for acf in ['sigmoid','tanh','relu','softmax','linear','elu']:\n",
    "    te_accs = []\n",
    "    for i in comp:\n",
    "        # PCA to transform input data\n",
    "        from sklearn.decomposition import PCA\n",
    "        pca = PCA(n_components= i)\n",
    "        pca.fit(X)\n",
    "        X_pca = pca.fit_transform(X, y=None)\n",
    "        # Split into training and test\n",
    "        X_train, X_test, y_train, y_test = train_test_split(X_pca, np.asarray(y), test_size=0.2, random_state=1)\n",
    "        #build a NN\n",
    "        model = Sequential()\n",
    "        model.add(Dense(256, input_dim=X_train.shape[1], activation=acf))\n",
    "        model.add(Dense(128, activation=acf))\n",
    "        model.add(Dense(64, activation=acf))\n",
    "        model.add(Dense(32, activation=acf))\n",
    "        model.add(Dense(1, activation='sigmoid'))\n",
    "        model.compile(loss='binary_crossentropy',\n",
    "                      optimizer='rmsprop',\n",
    "                      metrics=['accuracy'])\n",
    "\n",
    "        model.fit(X_train, y_train, epochs=30, batch_size=32, verbose=0)\n",
    "        score = model.evaluate(X_test, y_test, batch_size=32, verbose=0)\n",
    "    \n",
    "        te_accs.append(score[1])\n",
    "    total_te_accs.append(te_accs)"
   ]
  },
  {
   "cell_type": "code",
   "execution_count": 50,
   "metadata": {},
   "outputs": [],
   "source": [
    "# with open('./Data/total_te_accs.pickle', 'wb') as handle:\n",
    "#     pickle.dump(total_te_accs, handle, protocol=pickle.HIGHEST_PROTOCOL)\n",
    "# with open('./data/total_te_accs.pickle', 'rb') as handle:\n",
    "#     total_te_accs = pickle.load(handle)"
   ]
  },
  {
   "cell_type": "code",
   "execution_count": 51,
   "metadata": {},
   "outputs": [
    {
     "data": {
      "text/plain": [
       "[]"
      ]
     },
     "execution_count": 51,
     "metadata": {},
     "output_type": "execute_result"
    },
    {
     "data": {
      "image/png": "[encoded data removed]",
      "text/plain": [
       "<Figure size 864x360 with 1 Axes>"
      ]
     },
     "metadata": {},
     "output_type": "display_data"
    }
   ],
   "source": [
    "# Visulization\n",
    "plt.figure(figsize=(12, 5))\n",
    "# comp = [1,5,10,30,50,100,150,200,300]\n",
    "plt.plot(comp,total_te_accs[0], 'o-')\n",
    "plt.plot(comp,total_te_accs[1], 'o-')\n",
    "plt.plot(comp,total_te_accs[2], 'o-')\n",
    "plt.plot(comp,total_te_accs[3], 'o-')\n",
    "plt.plot(comp,total_te_accs[4], 'o-')\n",
    "plt.plot(comp,total_te_accs[5], 'o-')\n",
    "plt.title('Test accuracy from 6 activation functions for ”Set 1”')\n",
    "plt.xlabel('Number of components\\n ')\n",
    "plt.ylabel('Test accuracy')\n",
    "plt.axis([0,300,0.4,0.75])\n",
    "plt.legend(['sigmoid','tanh','relu','softmax','linear','elu'], loc = 'upperleft')\n",
    "plt.plot()"
   ]
  },
  {
   "cell_type": "code",
   "execution_count": 52,
   "metadata": {},
   "outputs": [],
   "source": [
    "def PCA_NN(X, y):\n",
    "    # test accuracy\n",
    "    te_accs = []\n",
    "    # total_te_accs = []\n",
    "    # components for PCA\n",
    "    comp = [1,5,10,30,50,100,150,200,300]\n",
    "    #for acf in ['sigmoid','tanh','relu','softmax','linear','elu']:\n",
    "    te_accs = []\n",
    "    for i in comp:\n",
    "        # PCA to transform input data\n",
    "        from sklearn.decomposition import PCA\n",
    "        pca = PCA(n_components= i)\n",
    "        pca.fit(X)\n",
    "        X_pca = pca.fit_transform(X, y=None)\n",
    "        # Split into training and test\n",
    "        X_train, X_test, y_train, y_test = train_test_split(X_pca, np.asarray(y), test_size=0.2, random_state=1)\n",
    "        #build a NN\n",
    "        model = Sequential()\n",
    "        model.add(Dense(256, input_dim=X_train.shape[1], activation='relu'))\n",
    "        model.add(Dense(128, activation='relu'))\n",
    "        model.add(Dense(64, activation='relu'))\n",
    "        model.add(Dense(32, activation='relu'))\n",
    "        model.add(Dense(1, activation='sigmoid'))\n",
    "        model.compile(loss='binary_crossentropy',\n",
    "                          optimizer='rmsprop',\n",
    "                          metrics=['accuracy'])\n",
    "\n",
    "        model.fit(X_train, y_train, epochs=30, batch_size=32, verbose=0)\n",
    "        score = model.evaluate(X_test, y_test, batch_size=32, verbose=0)\n",
    "\n",
    "        te_accs.append(score[1])\n",
    "    return te_accs"
   ]
  },
  {
   "cell_type": "code",
   "execution_count": 53,
   "metadata": {
    "scrolled": true
   },
   "outputs": [],
   "source": [
    "te_accs_1 = PCA_NN(X_set1_fasttext, y_set1_fasttext)\n",
    "te_accs_2 = PCA_NN(X_set2_fasttext, y_set2_fasttext)"
   ]
  },
  {
   "cell_type": "code",
   "execution_count": 54,
   "metadata": {},
   "outputs": [
    {
     "data": {
      "text/plain": [
       "[]"
      ]
     },
     "execution_count": 54,
     "metadata": {},
     "output_type": "execute_result"
    },
    {
     "data": {
      "image/png": "[encoded data removed]",
      "text/plain": [
       "<Figure size 864x360 with 1 Axes>"
      ]
     },
     "metadata": {},
     "output_type": "display_data"
    }
   ],
   "source": [
    "plt.figure(figsize=(12, 5))\n",
    "plt.plot(comp, te_accs_1,'o-')\n",
    "plt.plot(comp,te_accs_2,'o-')\n",
    "plt.title('Test accuracy against components of model')\n",
    "plt.xlabel('Number of components \\n ')\n",
    "plt.ylabel('Test accuracy')\n",
    "plt.legend(['Set 1','Set 2'])\n",
    "plt.plot()"
   ]
  }
 ],
 "metadata": {
  "kernelspec": {
   "display_name": "Python 3",
   "language": "python",
   "name": "python3"
  },
  "language_info": {
   "codemirror_mode": {
    "name": "ipython",
    "version": 3
   },
   "file_extension": ".py",
   "mimetype": "text/x-python",
   "name": "python",
   "nbconvert_exporter": "python",
   "pygments_lexer": "ipython3",
   "version": "3.6.5"
  }
 },
 "nbformat": 4,
 "nbformat_minor": 2
}
