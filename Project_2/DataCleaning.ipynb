{
 "cells": [
  {
   "cell_type": "markdown",
   "metadata": {},
   "source": [
    "This notebook is used to do basic data cleaning for scrapped data.\n",
    "\n",
    "The aim is:\n",
    "\n",
    "1. Convert full name in name_info to abbreviation name for convenience in modeling part;\n",
    "2. Extract subjects and headings of each paper."
   ]
  },
  {
   "cell_type": "code",
   "execution_count": 1,
   "metadata": {},
   "outputs": [],
   "source": [
    "import time\n",
    "import pandas as pd\n",
    "import csv\n",
    "import numpy as np"
   ]
  },
  {
   "cell_type": "markdown",
   "metadata": {},
   "source": [
    "## Find and save the abbrivated names in each paper and replace the full name in name_info keys with abbrivated names"
   ]
  },
  {
   "cell_type": "code",
   "execution_count": 4,
   "metadata": {},
   "outputs": [],
   "source": [
    "nan = None"
   ]
  },
  {
   "cell_type": "code",
   "execution_count": null,
   "metadata": {
    "scrolled": true
   },
   "outputs": [],
   "source": [
    "AbbrNames = []\n",
    "for idx in range(len(data_complete)):\n",
    "    new_keys = []\n",
    "    names = eval(data_complete.name_info[idx])\n",
    "    for old_key in names.copy().keys():\n",
    "        try:\n",
    "            new_key = old_key.split(',')[0]+' '+old_key.split(',')[1][1]+\"*\"\n",
    "        except:\n",
    "            print(idx,old_key)\n",
    "        else:\n",
    "            new_key = new_key.upper()\n",
    "            names[new_key] = names.pop(old_key)\n",
    "            new_keys.append(new_key)\n",
    "    #data_complete.name_info[idx] = names\n",
    "    AbbrNames.append(','.join(new_keys))\n",
    "    if idx %5000 ==0:\n",
    "        print(idx,new_keys)"
   ]
  },
  {
   "cell_type": "code",
   "execution_count": 16,
   "metadata": {},
   "outputs": [],
   "source": [
    "data_selected = data_complete[['category_info','doctype','keywords','language','name_info',\n",
    "                               'publish_date','pubtype','source','title']]"
   ]
  },
  {
   "cell_type": "code",
   "execution_count": 27,
   "metadata": {},
   "outputs": [
    {
     "name": "stderr",
     "output_type": "stream",
     "text": [
      "/anaconda3/lib/python3.6/site-packages/ipykernel_launcher.py:1: SettingWithCopyWarning: \n",
      "A value is trying to be set on a copy of a slice from a DataFrame.\n",
      "Try using .loc[row_indexer,col_indexer] = value instead\n",
      "\n",
      "See the caveats in the documentation: http://pandas.pydata.org/pandas-docs/stable/indexing.html#indexing-view-versus-copy\n",
      "  \"\"\"Entry point for launching an IPython kernel.\n"
     ]
    }
   ],
   "source": [
    "data_selected['AbbrNames'] = AbbrNames"
   ]
  },
  {
   "cell_type": "code",
   "execution_count": 30,
   "metadata": {},
   "outputs": [],
   "source": [
    "data_selected.to_csv('dismissed_complete.csv',index=False)"
   ]
  },
  {
   "cell_type": "markdown",
   "metadata": {},
   "source": [
    "## Split category info"
   ]
  },
  {
   "cell_type": "code",
   "execution_count": 1,
   "metadata": {},
   "outputs": [
    {
     "data": {
      "text/html": [
       "<div>\n",
       "<style scoped>\n",
       "    .dataframe tbody tr th:only-of-type {\n",
       "        vertical-align: middle;\n",
       "    }\n",
       "\n",
       "    .dataframe tbody tr th {\n",
       "        vertical-align: top;\n",
       "    }\n",
       "\n",
       "    .dataframe thead th {\n",
       "        text-align: right;\n",
       "    }\n",
       "</style>\n",
       "<table border=\"1\" class=\"dataframe\">\n",
       "  <thead>\n",
       "    <tr style=\"text-align: right;\">\n",
       "      <th></th>\n",
       "      <th>Unnamed: 0</th>\n",
       "      <th>abstract</th>\n",
       "      <th>category_info</th>\n",
       "      <th>doctype</th>\n",
       "      <th>issue</th>\n",
       "      <th>keywords</th>\n",
       "      <th>language</th>\n",
       "      <th>name_info</th>\n",
       "      <th>publish_date</th>\n",
       "      <th>pubtype</th>\n",
       "      <th>source</th>\n",
       "      <th>title</th>\n",
       "      <th>uid</th>\n",
       "      <th>vol</th>\n",
       "    </tr>\n",
       "  </thead>\n",
       "  <tbody>\n",
       "    <tr>\n",
       "      <th>0</th>\n",
       "      <td>0</td>\n",
       "      <td>The Ermenek Basin in the central Taurus Region...</td>\n",
       "      <td>{'headings': ['Science &amp; Technology'], 'subhea...</td>\n",
       "      <td>Article</td>\n",
       "      <td>10</td>\n",
       "      <td>['coal', 'geostatistics', 'kriging', 'Turkey',...</td>\n",
       "      <td>['English']</td>\n",
       "      <td>{'Demirel, IH': {'daisng_id': '1674276', 'role...</td>\n",
       "      <td>2000-12-01</td>\n",
       "      <td>Journal</td>\n",
       "      <td>ENERGY SOURCES</td>\n",
       "      <td>Geostatistical reserve estimation: A case stud...</td>\n",
       "      <td>WOS:000165681500009</td>\n",
       "      <td>22</td>\n",
       "    </tr>\n",
       "    <tr>\n",
       "      <th>1</th>\n",
       "      <td>1</td>\n",
       "      <td>This research is focused on the integrated pro...</td>\n",
       "      <td>{'headings': ['Science &amp; Technology'], 'subhea...</td>\n",
       "      <td>Article</td>\n",
       "      <td>6</td>\n",
       "      <td>['ozone', 'pulp bleaching', 'pretreatment', 'a...</td>\n",
       "      <td>['English']</td>\n",
       "      <td>{'Balcioglu, I. Akmehmet': {'daisng_id': '8977...</td>\n",
       "      <td>2006-12-01</td>\n",
       "      <td>Journal</td>\n",
       "      <td>OZONE-SCIENCE &amp; ENGINEERING</td>\n",
       "      <td>Application of ozonation and biotreatment for ...</td>\n",
       "      <td>WOS:000242899300005</td>\n",
       "      <td>28</td>\n",
       "    </tr>\n",
       "  </tbody>\n",
       "</table>\n",
       "</div>"
      ],
      "text/plain": [
       "   Unnamed: 0                                           abstract  \\\n",
       "0           0  The Ermenek Basin in the central Taurus Region...   \n",
       "1           1  This research is focused on the integrated pro...   \n",
       "\n",
       "                                       category_info  doctype issue  \\\n",
       "0  {'headings': ['Science & Technology'], 'subhea...  Article    10   \n",
       "1  {'headings': ['Science & Technology'], 'subhea...  Article     6   \n",
       "\n",
       "                                            keywords     language  \\\n",
       "0  ['coal', 'geostatistics', 'kriging', 'Turkey',...  ['English']   \n",
       "1  ['ozone', 'pulp bleaching', 'pretreatment', 'a...  ['English']   \n",
       "\n",
       "                                           name_info publish_date  pubtype  \\\n",
       "0  {'Demirel, IH': {'daisng_id': '1674276', 'role...   2000-12-01  Journal   \n",
       "1  {'Balcioglu, I. Akmehmet': {'daisng_id': '8977...   2006-12-01  Journal   \n",
       "\n",
       "                        source  \\\n",
       "0               ENERGY SOURCES   \n",
       "1  OZONE-SCIENCE & ENGINEERING   \n",
       "\n",
       "                                               title                  uid vol  \n",
       "0  Geostatistical reserve estimation: A case stud...  WOS:000165681500009  22  \n",
       "1  Application of ozonation and biotreatment for ...  WOS:000242899300005  28  "
      ]
     },
     "execution_count": 1,
     "metadata": {},
     "output_type": "execute_result"
    }
   ],
   "source": [
    "import pandas as pd\n",
    "data = pd.read_csv('./dismissed_complete.csv')\n",
    "data.head(2)"
   ]
  },
  {
   "cell_type": "code",
   "execution_count": 4,
   "metadata": {},
   "outputs": [
    {
     "data": {
      "text/plain": [
       "\"{'headings': ['Science & Technology'], 'subheadings': ['Technology', 'Life Sciences & Biomedicine'], 'traditional_subjects': ['Engineering, Environmental', 'Environmental Sciences'], 'extended_subjects': ['Engineering', 'Environmental Sciences & Ecology']}\""
      ]
     },
     "execution_count": 4,
     "metadata": {},
     "output_type": "execute_result"
    }
   ],
   "source": [
    "data.category_info[1]"
   ]
  },
  {
   "cell_type": "code",
   "execution_count": 6,
   "metadata": {
    "scrolled": true
   },
   "outputs": [
    {
     "name": "stdout",
     "output_type": "stream",
     "text": [
      "0 {'headings': ['Science & Technology'], 'subheadings': ['Technology'], 'traditional_subjects': ['Energy & Fuels', 'Engineering, Chemical'], 'extended_subjects': ['Energy & Fuels', 'Engineering']}\n",
      "5000 {'headings': ['Science & Technology'], 'subheadings': ['Life Sciences & Biomedicine'], 'traditional_subjects': ['Clinical Neurology', 'Pediatrics'], 'extended_subjects': ['Neurosciences & Neurology', 'Pediatrics']}\n",
      "10000 {'headings': ['Science & Technology'], 'subheadings': ['Life Sciences & Biomedicine'], 'traditional_subjects': ['Cardiac & Cardiovascular Systems'], 'extended_subjects': ['Cardiovascular System & Cardiology']}\n",
      "15000 {'headings': ['Science & Technology'], 'subheadings': ['Life Sciences & Biomedicine'], 'traditional_subjects': ['Medical Laboratory Technology'], 'extended_subjects': ['Medical Laboratory Technology']}\n",
      "20000 {'headings': ['Science & Technology'], 'subheadings': ['Life Sciences & Biomedicine'], 'traditional_subjects': ['Emergency Medicine'], 'extended_subjects': ['Emergency Medicine']}\n",
      "25000 {'headings': ['Science & Technology'], 'subheadings': ['Life Sciences & Biomedicine'], 'traditional_subjects': ['Medicine, General & Internal'], 'extended_subjects': ['General & Internal Medicine']}\n",
      "30000 {'headings': ['Science & Technology'], 'subheadings': ['Life Sciences & Biomedicine'], 'traditional_subjects': ['Oncology'], 'extended_subjects': ['Oncology']}\n",
      "35000 {'headings': ['Science & Technology'], 'subheadings': ['Life Sciences & Biomedicine'], 'traditional_subjects': ['Cardiac & Cardiovascular Systems'], 'extended_subjects': ['Cardiovascular System & Cardiology']}\n",
      "40000 {'headings': ['Science & Technology'], 'subheadings': ['Life Sciences & Biomedicine'], 'traditional_subjects': ['Environmental Sciences'], 'extended_subjects': ['Environmental Sciences & Ecology']}\n",
      "45000 {'headings': ['Science & Technology'], 'subheadings': ['Physical Sciences'], 'traditional_subjects': ['Chemistry, Multidisciplinary'], 'extended_subjects': ['Chemistry']}\n",
      "50000 {'headings': ['Science & Technology'], 'subheadings': ['Life Sciences & Biomedicine'], 'traditional_subjects': ['Obstetrics & Gynecology'], 'extended_subjects': ['Obstetrics & Gynecology']}\n",
      "55000 {'headings': ['Science & Technology'], 'subheadings': ['Life Sciences & Biomedicine'], 'traditional_subjects': ['Emergency Medicine'], 'extended_subjects': ['Emergency Medicine']}\n",
      "60000 {'headings': ['Science & Technology'], 'subheadings': ['Life Sciences & Biomedicine'], 'traditional_subjects': ['Hematology'], 'extended_subjects': ['Hematology']}\n",
      "65000 {'headings': ['Science & Technology'], 'subheadings': ['Life Sciences & Biomedicine'], 'traditional_subjects': ['Virology'], 'extended_subjects': ['Virology']}\n",
      "70000 {'headings': ['Science & Technology'], 'subheadings': ['Life Sciences & Biomedicine'], 'traditional_subjects': ['Ophthalmology'], 'extended_subjects': ['Ophthalmology']}\n",
      "75000 {'headings': ['Science & Technology'], 'subheadings': ['Life Sciences & Biomedicine'], 'traditional_subjects': ['Otorhinolaryngology'], 'extended_subjects': ['Otorhinolaryngology']}\n",
      "80000 {'headings': ['Science & Technology'], 'subheadings': ['Life Sciences & Biomedicine'], 'traditional_subjects': ['Oncology'], 'extended_subjects': ['Oncology']}\n",
      "85000 {'headings': ['Science & Technology'], 'subheadings': ['Life Sciences & Biomedicine'], 'traditional_subjects': ['Radiology, Nuclear Medicine & Medical Imaging'], 'extended_subjects': ['Radiology, Nuclear Medicine & Medical Imaging']}\n",
      "90000 {'headings': ['Science & Technology'], 'subheadings': ['Life Sciences & Biomedicine'], 'traditional_subjects': ['Medicine, General & Internal'], 'extended_subjects': ['General & Internal Medicine']}\n",
      "95000 {'headings': ['Science & Technology'], 'subheadings': ['Life Sciences & Biomedicine'], 'traditional_subjects': ['Medicine, General & Internal'], 'extended_subjects': ['General & Internal Medicine']}\n",
      "100000 {'headings': ['Arts & Humanities'], 'subheadings': None, 'traditional_subjects': ['Literary Reviews', 'Literature'], 'extended_subjects': ['Literature']}\n",
      "105000 {'headings': ['Science & Technology'], 'subheadings': ['Life Sciences & Biomedicine'], 'traditional_subjects': ['Pharmacology & Pharmacy'], 'extended_subjects': ['Pharmacology & Pharmacy']}\n",
      "110000 {'headings': ['Science & Technology'], 'subheadings': ['Life Sciences & Biomedicine'], 'traditional_subjects': ['Veterinary Sciences'], 'extended_subjects': ['Veterinary Sciences']}\n",
      "115000 {'headings': ['Science & Technology'], 'subheadings': ['Life Sciences & Biomedicine'], 'traditional_subjects': ['Oncology'], 'extended_subjects': ['Oncology']}\n",
      "120000 {'headings': ['Science & Technology'], 'subheadings': ['Life Sciences & Biomedicine'], 'traditional_subjects': ['Medicine, Research & Experimental'], 'extended_subjects': ['Research & Experimental Medicine']}\n",
      "125000 {'headings': ['Science & Technology'], 'subheadings': ['Life Sciences & Biomedicine'], 'traditional_subjects': ['Rheumatology'], 'extended_subjects': ['Rheumatology']}\n",
      "130000 {'headings': ['Science & Technology'], 'subheadings': ['Life Sciences & Biomedicine'], 'traditional_subjects': ['Biophysics', 'Oncology', 'Hematology', 'Immunology', 'Transplantation'], 'extended_subjects': ['Biophysics', 'Oncology', 'Hematology', 'Immunology', 'Transplantation']}\n",
      "135000 {'headings': ['Science & Technology'], 'subheadings': ['Life Sciences & Biomedicine'], 'traditional_subjects': ['Medicine, Research & Experimental', 'Pharmacology & Pharmacy'], 'extended_subjects': ['Research & Experimental Medicine', 'Pharmacology & Pharmacy']}\n",
      "140000 {'headings': ['Science & Technology'], 'subheadings': ['Life Sciences & Biomedicine'], 'traditional_subjects': ['Clinical Neurology'], 'extended_subjects': ['Neurosciences & Neurology']}\n",
      "145000 {'headings': ['Science & Technology'], 'subheadings': ['Life Sciences & Biomedicine'], 'traditional_subjects': ['Obstetrics & Gynecology'], 'extended_subjects': ['Obstetrics & Gynecology']}\n",
      "150000 {'headings': ['Science & Technology'], 'subheadings': ['Physical Sciences'], 'traditional_subjects': ['Chemistry, Multidisciplinary'], 'extended_subjects': ['Chemistry']}\n",
      "155000 {'headings': ['Science & Technology'], 'subheadings': ['Life Sciences & Biomedicine'], 'traditional_subjects': ['Rehabilitation'], 'extended_subjects': ['Rehabilitation']}\n",
      "160000 {'headings': ['Science & Technology'], 'subheadings': ['Life Sciences & Biomedicine'], 'traditional_subjects': ['Oncology', 'Public, Environmental & Occupational Health'], 'extended_subjects': ['Oncology', 'Public, Environmental & Occupational Health']}\n",
      "165000 {'headings': ['Science & Technology'], 'subheadings': ['Technology', 'Physical Sciences'], 'traditional_subjects': ['Materials Science, Multidisciplinary', 'Physics, Condensed Matter'], 'extended_subjects': ['Materials Science', 'Physics']}\n",
      "170000 {'headings': ['Science & Technology'], 'subheadings': ['Life Sciences & Biomedicine'], 'traditional_subjects': ['Dentistry, Oral Surgery & Medicine'], 'extended_subjects': ['Dentistry, Oral Surgery & Medicine']}\n",
      "175000 {'headings': ['Science & Technology'], 'subheadings': ['Life Sciences & Biomedicine'], 'traditional_subjects': ['Urology & Nephrology'], 'extended_subjects': ['Urology & Nephrology']}\n",
      "180000 {'headings': ['Science & Technology'], 'subheadings': ['Life Sciences & Biomedicine'], 'traditional_subjects': ['Cardiac & Cardiovascular Systems', 'Cell Biology'], 'extended_subjects': ['Cardiovascular System & Cardiology', 'Cell Biology']}\n",
      "185000 {'headings': ['Science & Technology'], 'subheadings': ['Life Sciences & Biomedicine'], 'traditional_subjects': ['Medicine, Research & Experimental'], 'extended_subjects': ['Research & Experimental Medicine']}\n",
      "190000 {'headings': ['Science & Technology'], 'subheadings': ['Physical Sciences'], 'traditional_subjects': ['Physics, Multidisciplinary'], 'extended_subjects': ['Physics']}\n",
      "195000 {'headings': ['Science & Technology'], 'subheadings': ['Life Sciences & Biomedicine'], 'traditional_subjects': ['Ophthalmology'], 'extended_subjects': ['Ophthalmology']}\n",
      "200000 {'headings': ['Science & Technology'], 'subheadings': ['Life Sciences & Biomedicine'], 'traditional_subjects': ['Health Care Sciences & Services', 'Medical Informatics'], 'extended_subjects': ['Health Care Sciences & Services', 'Medical Informatics']}\n",
      "205000 {'headings': ['Science & Technology'], 'subheadings': ['Life Sciences & Biomedicine'], 'traditional_subjects': ['Gastroenterology & Hepatology', 'Clinical Neurology', 'Neurosciences'], 'extended_subjects': ['Gastroenterology & Hepatology', 'Neurosciences & Neurology']}\n"
     ]
    },
    {
     "name": "stdout",
     "output_type": "stream",
     "text": [
      "210000 {'headings': ['Science & Technology'], 'subheadings': ['Life Sciences & Biomedicine'], 'traditional_subjects': ['Nutrition & Dietetics', 'Urology & Nephrology'], 'extended_subjects': ['Nutrition & Dietetics', 'Urology & Nephrology']}\n",
      "215000 {'headings': ['Science & Technology'], 'subheadings': ['Life Sciences & Biomedicine'], 'traditional_subjects': ['Medicine, General & Internal'], 'extended_subjects': ['General & Internal Medicine']}\n",
      "220000 {'headings': ['Science & Technology'], 'subheadings': ['Life Sciences & Biomedicine'], 'traditional_subjects': ['Cardiac & Cardiovascular Systems'], 'extended_subjects': ['Cardiovascular System & Cardiology']}\n",
      "225000 {'headings': ['Science & Technology'], 'subheadings': ['Technology'], 'traditional_subjects': ['Computer Science, Information Systems', 'Engineering, Electrical & Electronic'], 'extended_subjects': ['Computer Science', 'Engineering']}\n",
      "230000 {'headings': ['Science & Technology'], 'subheadings': ['Life Sciences & Biomedicine'], 'traditional_subjects': ['Endocrinology & Metabolism', 'Neurosciences', 'Physiology'], 'extended_subjects': ['Endocrinology & Metabolism', 'Neurosciences & Neurology', 'Physiology']}\n",
      "235000 {'headings': ['Science & Technology'], 'subheadings': ['Life Sciences & Biomedicine'], 'traditional_subjects': ['Dermatology', 'Pediatrics'], 'extended_subjects': ['Dermatology', 'Pediatrics']}\n",
      "240000 {'headings': ['Science & Technology'], 'subheadings': ['Life Sciences & Biomedicine'], 'traditional_subjects': ['Medicine, Legal'], 'extended_subjects': ['Legal Medicine']}\n",
      "245000 {'headings': ['Science & Technology'], 'subheadings': ['Physical Sciences'], 'traditional_subjects': ['Geosciences, Multidisciplinary'], 'extended_subjects': ['Geology']}\n",
      "250000 {'headings': ['Science & Technology'], 'subheadings': ['Life Sciences & Biomedicine'], 'traditional_subjects': ['Urology & Nephrology'], 'extended_subjects': ['Urology & Nephrology']}\n",
      "255000 {'headings': ['Science & Technology'], 'subheadings': ['Technology', 'Physical Sciences'], 'traditional_subjects': ['Computer Science, Artificial Intelligence', 'Engineering, Electrical & Electronic', 'Optics'], 'extended_subjects': ['Computer Science', 'Engineering', 'Optics']}\n",
      "260000 {'headings': ['Science & Technology'], 'subheadings': ['Life Sciences & Biomedicine'], 'traditional_subjects': ['Medicine, General & Internal', 'Medicine, Research & Experimental'], 'extended_subjects': ['General & Internal Medicine', 'Research & Experimental Medicine']}\n",
      "265000 {'headings': ['Science & Technology'], 'subheadings': ['Life Sciences & Biomedicine'], 'traditional_subjects': ['Urology & Nephrology'], 'extended_subjects': ['Urology & Nephrology']}\n",
      "270000 {'headings': ['Science & Technology'], 'subheadings': ['Life Sciences & Biomedicine'], 'traditional_subjects': ['Clinical Neurology', 'Neurosciences'], 'extended_subjects': ['Neurosciences & Neurology']}\n",
      "275000 {'headings': ['Science & Technology'], 'subheadings': ['Physical Sciences'], 'traditional_subjects': ['Meteorology & Atmospheric Sciences'], 'extended_subjects': ['Meteorology & Atmospheric Sciences']}\n",
      "280000 {'headings': ['Science & Technology'], 'subheadings': ['Life Sciences & Biomedicine'], 'traditional_subjects': ['Pathology'], 'extended_subjects': ['Pathology']}\n",
      "285000 {'headings': ['Science & Technology'], 'subheadings': ['Life Sciences & Biomedicine'], 'traditional_subjects': ['Medicine, General & Internal'], 'extended_subjects': ['General & Internal Medicine']}\n",
      "290000 {'headings': ['Science & Technology'], 'subheadings': ['Life Sciences & Biomedicine'], 'traditional_subjects': ['Medicine, General & Internal'], 'extended_subjects': ['General & Internal Medicine']}\n",
      "295000 {'headings': ['Science & Technology'], 'subheadings': ['Technology'], 'traditional_subjects': ['Spectroscopy'], 'extended_subjects': ['Spectroscopy']}\n",
      "300000 {'headings': ['Science & Technology'], 'subheadings': ['Physical Sciences'], 'traditional_subjects': ['Optics'], 'extended_subjects': ['Optics']}\n",
      "305000 {'headings': ['Science & Technology'], 'subheadings': ['Life Sciences & Biomedicine'], 'traditional_subjects': ['Biochemistry & Molecular Biology', 'Biophysics'], 'extended_subjects': ['Biochemistry & Molecular Biology', 'Biophysics']}\n",
      "310000 {'headings': ['Science & Technology'], 'subheadings': ['Life Sciences & Biomedicine'], 'traditional_subjects': ['Hematology', 'Peripheral Vascular Disease'], 'extended_subjects': ['Hematology', 'Cardiovascular System & Cardiology']}\n",
      "315000 {'headings': ['Science & Technology'], 'subheadings': ['Life Sciences & Biomedicine'], 'traditional_subjects': ['Immunology', 'Infectious Diseases'], 'extended_subjects': ['Immunology', 'Infectious Diseases']}\n",
      "320000 {'headings': ['Science & Technology'], 'subheadings': ['Life Sciences & Biomedicine', 'Physical Sciences'], 'traditional_subjects': ['Biochemistry & Molecular Biology', 'Biophysics', 'Chemistry, Physical'], 'extended_subjects': ['Biochemistry & Molecular Biology', 'Biophysics', 'Chemistry']}\n",
      "325000 {'headings': ['Science & Technology'], 'subheadings': ['Physical Sciences', 'Technology'], 'traditional_subjects': ['Thermodynamics', 'Mechanics'], 'extended_subjects': ['Thermodynamics', 'Mechanics']}\n",
      "330000 {'headings': ['Science & Technology'], 'subheadings': ['Life Sciences & Biomedicine'], 'traditional_subjects': ['Oncology', 'Pathology'], 'extended_subjects': ['Oncology', 'Pathology']}\n",
      "335000 {'headings': None, 'subheadings': None, 'traditional_subjects': None, 'extended_subjects': None}\n",
      "340000 {'headings': ['Science & Technology'], 'subheadings': ['Physical Sciences'], 'traditional_subjects': ['Crystallography'], 'extended_subjects': ['Crystallography']}\n",
      "345000 {'headings': ['Science & Technology'], 'subheadings': ['Life Sciences & Biomedicine'], 'traditional_subjects': ['Dermatology'], 'extended_subjects': ['Dermatology']}\n",
      "350000 {'headings': ['Science & Technology'], 'subheadings': ['Life Sciences & Biomedicine'], 'traditional_subjects': ['Oncology'], 'extended_subjects': ['Oncology']}\n"
     ]
    }
   ],
   "source": [
    "headings = []\n",
    "subheadings = []\n",
    "traditional_sub = []\n",
    "extended_sub = []\n",
    "\n",
    "for i in range(len(data)):\n",
    "    try:\n",
    "        tmp_cate = eval(data.category_info[i])\n",
    "    except:\n",
    "        print(i,tmp_cate)\n",
    "    else:\n",
    "        headings.append(tmp_cate['headings'])\n",
    "        subheadings.append(tmp_cate['subheadings'])\n",
    "        traditional_sub.append(tmp_cate['traditional_subjects'])\n",
    "        extended_sub.append(tmp_cate['extended_subjects'])\n",
    "    if i % 5000 == 0 :\n",
    "        print(i,tmp_cate)"
   ]
  },
  {
   "cell_type": "code",
   "execution_count": 7,
   "metadata": {},
   "outputs": [],
   "source": [
    "data['heading'] = headings\n",
    "data['subheading'] = subheadings\n",
    "data['traditional_sub'] = traditional_sub"
   ]
  },
  {
   "cell_type": "code",
   "execution_count": 8,
   "metadata": {},
   "outputs": [],
   "source": [
    "data['extended_sub'] = extended_sub"
   ]
  },
  {
   "cell_type": "code",
   "execution_count": 10,
   "metadata": {},
   "outputs": [],
   "source": [
    "data.drop(columns='category_info',inplace=True)"
   ]
  },
  {
   "cell_type": "code",
   "execution_count": 11,
   "metadata": {},
   "outputs": [
    {
     "data": {
      "text/html": [
       "<div>\n",
       "<style scoped>\n",
       "    .dataframe tbody tr th:only-of-type {\n",
       "        vertical-align: middle;\n",
       "    }\n",
       "\n",
       "    .dataframe tbody tr th {\n",
       "        vertical-align: top;\n",
       "    }\n",
       "\n",
       "    .dataframe thead th {\n",
       "        text-align: right;\n",
       "    }\n",
       "</style>\n",
       "<table border=\"1\" class=\"dataframe\">\n",
       "  <thead>\n",
       "    <tr style=\"text-align: right;\">\n",
       "      <th></th>\n",
       "      <th>doctype</th>\n",
       "      <th>keywords</th>\n",
       "      <th>language</th>\n",
       "      <th>name_info</th>\n",
       "      <th>publish_date</th>\n",
       "      <th>pubtype</th>\n",
       "      <th>source</th>\n",
       "      <th>title</th>\n",
       "      <th>AbbrNames</th>\n",
       "      <th>uid</th>\n",
       "      <th>heading</th>\n",
       "      <th>subheadind</th>\n",
       "      <th>traditional_sub</th>\n",
       "      <th>extended_sub</th>\n",
       "    </tr>\n",
       "  </thead>\n",
       "  <tbody>\n",
       "    <tr>\n",
       "      <th>0</th>\n",
       "      <td>Article</td>\n",
       "      <td>['coal', 'geostatistics', 'kriging', 'Turkey',...</td>\n",
       "      <td>['English']</td>\n",
       "      <td>{'DEMIREL I*': {'daisng_id': '1674276', 'role'...</td>\n",
       "      <td>2000-12-01</td>\n",
       "      <td>Journal</td>\n",
       "      <td>ENERGY SOURCES</td>\n",
       "      <td>Geostatistical reserve estimation: A case stud...</td>\n",
       "      <td>['DEMIREL I*', 'SARAC C*', 'SEN O*']</td>\n",
       "      <td>WOS:000165681500009</td>\n",
       "      <td>[Science &amp; Technology]</td>\n",
       "      <td>[Technology]</td>\n",
       "      <td>[Energy &amp; Fuels, Engineering, Chemical]</td>\n",
       "      <td>[Energy &amp; Fuels, Engineering]</td>\n",
       "    </tr>\n",
       "    <tr>\n",
       "      <th>1</th>\n",
       "      <td>Article</td>\n",
       "      <td>['ozone', 'pulp bleaching', 'pretreatment', 'a...</td>\n",
       "      <td>['English']</td>\n",
       "      <td>{'BALCIOGLU I*': {'daisng_id': '897760', 'role...</td>\n",
       "      <td>2006-12-01</td>\n",
       "      <td>Journal</td>\n",
       "      <td>OZONE-SCIENCE &amp; ENGINEERING</td>\n",
       "      <td>Application of ozonation and biotreatment for ...</td>\n",
       "      <td>['BALCIOGLU I*', 'SARAC C*', 'KIVILCIMDAN C*',...</td>\n",
       "      <td>WOS:000242899300005</td>\n",
       "      <td>[Science &amp; Technology]</td>\n",
       "      <td>[Technology, Life Sciences &amp; Biomedicine]</td>\n",
       "      <td>[Engineering, Environmental, Environmental Sci...</td>\n",
       "      <td>[Engineering, Environmental Sciences &amp; Ecology]</td>\n",
       "    </tr>\n",
       "  </tbody>\n",
       "</table>\n",
       "</div>"
      ],
      "text/plain": [
       "   doctype                                           keywords     language  \\\n",
       "0  Article  ['coal', 'geostatistics', 'kriging', 'Turkey',...  ['English']   \n",
       "1  Article  ['ozone', 'pulp bleaching', 'pretreatment', 'a...  ['English']   \n",
       "\n",
       "                                           name_info publish_date  pubtype  \\\n",
       "0  {'DEMIREL I*': {'daisng_id': '1674276', 'role'...   2000-12-01  Journal   \n",
       "1  {'BALCIOGLU I*': {'daisng_id': '897760', 'role...   2006-12-01  Journal   \n",
       "\n",
       "                        source  \\\n",
       "0               ENERGY SOURCES   \n",
       "1  OZONE-SCIENCE & ENGINEERING   \n",
       "\n",
       "                                               title  \\\n",
       "0  Geostatistical reserve estimation: A case stud...   \n",
       "1  Application of ozonation and biotreatment for ...   \n",
       "\n",
       "                                           AbbrNames                  uid  \\\n",
       "0               ['DEMIREL I*', 'SARAC C*', 'SEN O*']  WOS:000165681500009   \n",
       "1  ['BALCIOGLU I*', 'SARAC C*', 'KIVILCIMDAN C*',...  WOS:000242899300005   \n",
       "\n",
       "                  heading                                 subheadind  \\\n",
       "0  [Science & Technology]                               [Technology]   \n",
       "1  [Science & Technology]  [Technology, Life Sciences & Biomedicine]   \n",
       "\n",
       "                                     traditional_sub  \\\n",
       "0            [Energy & Fuels, Engineering, Chemical]   \n",
       "1  [Engineering, Environmental, Environmental Sci...   \n",
       "\n",
       "                                      extended_sub  \n",
       "0                    [Energy & Fuels, Engineering]  \n",
       "1  [Engineering, Environmental Sciences & Ecology]  "
      ]
     },
     "execution_count": 11,
     "metadata": {},
     "output_type": "execute_result"
    }
   ],
   "source": [
    "data.head(2)"
   ]
  },
  {
   "cell_type": "code",
   "execution_count": 12,
   "metadata": {},
   "outputs": [],
   "source": [
    "data.to_csv('dismissed_complete.csv',index=False)"
   ]
  }
 ],
 "metadata": {
  "kernelspec": {
   "display_name": "Python 3",
   "language": "python",
   "name": "python3"
  },
  "language_info": {
   "codemirror_mode": {
    "name": "ipython",
    "version": 3
   },
   "file_extension": ".py",
   "mimetype": "text/x-python",
   "name": "python",
   "nbconvert_exporter": "python",
   "pygments_lexer": "ipython3",
   "version": "3.6.5"
  }
 },
 "nbformat": 4,
 "nbformat_minor": 2
}
